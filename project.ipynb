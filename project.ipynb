{
 "cells": [
  {
   "cell_type": "code",
   "execution_count": 1,
   "id": "7896e079-78e6-4431-a022-11f53430d6f1",
   "metadata": {},
   "outputs": [
    {
     "name": "stdout",
     "output_type": "stream",
     "text": [
      "Requirement already satisfied: pip==21.3.1 in c:\\users\\dhruv\\onedrive\\desktop\\face\\face\\lib\\site-packages (21.3.1)Note: you may need to restart the kernel to use updated packages.\n",
      "\n"
     ]
    },
    {
     "name": "stderr",
     "output_type": "stream",
     "text": [
      "WARNING: You are using pip version 21.3.1; however, version 23.3.1 is available.\n",
      "You should consider upgrading via the 'C:\\Users\\dhruv\\OneDrive\\Desktop\\face\\face\\Scripts\\python.exe -m pip install --upgrade pip' command.\n"
     ]
    }
   ],
   "source": [
    "pip install pip==21.3.1"
   ]
  },
  {
   "cell_type": "code",
   "execution_count": 2,
   "id": "bf60a9a9-9a3b-42f2-92bc-43274984da22",
   "metadata": {},
   "outputs": [
    {
     "name": "stdout",
     "output_type": "stream",
     "text": [
      "Requirement already satisfied: tensorflow in c:\\adwcleaner\\python311\\lib\\site-packages (2.13.0)\n",
      "Collecting tensorflow-gpu\n",
      "  Using cached tensorflow-gpu-2.12.0.tar.gz (2.6 kB)\n",
      "  Preparing metadata (setup.py): started\n",
      "  Preparing metadata (setup.py): finished with status 'error'\n"
     ]
    },
    {
     "name": "stderr",
     "output_type": "stream",
     "text": [
      "DEPRECATION: Loading egg at c:\\adwcleaner\\python311\\lib\\site-packages\\vboxapi-1.0-py3.11.egg is deprecated. pip 23.3 will enforce this behaviour change. A possible replacement is to use pip for package installation..\n",
      "  error: subprocess-exited-with-error\n",
      "  \n",
      "  python setup.py egg_info did not run successfully.\n",
      "  exit code: 1\n",
      "  \n",
      "  [44 lines of output]\n",
      "  Traceback (most recent call last):\n",
      "    File \"C:\\AdwCleaner\\Python311\\Lib\\site-packages\\setuptools\\_vendor\\packaging\\requirements.py\", line 35, in __init__\n",
      "      parsed = _parse_requirement(requirement_string)\n",
      "               ^^^^^^^^^^^^^^^^^^^^^^^^^^^^^^^^^^^^^^\n",
      "    File \"C:\\AdwCleaner\\Python311\\Lib\\site-packages\\setuptools\\_vendor\\packaging\\_parser.py\", line 64, in parse_requirement\n",
      "      return _parse_requirement(Tokenizer(source, rules=DEFAULT_RULES))\n",
      "             ^^^^^^^^^^^^^^^^^^^^^^^^^^^^^^^^^^^^^^^^^^^^^^^^^^^^^^^^^^\n",
      "    File \"C:\\AdwCleaner\\Python311\\Lib\\site-packages\\setuptools\\_vendor\\packaging\\_parser.py\", line 82, in _parse_requirement\n",
      "      url, specifier, marker = _parse_requirement_details(tokenizer)\n",
      "                               ^^^^^^^^^^^^^^^^^^^^^^^^^^^^^^^^^^^^^\n",
      "    File \"C:\\AdwCleaner\\Python311\\Lib\\site-packages\\setuptools\\_vendor\\packaging\\_parser.py\", line 126, in _parse_requirement_details\n",
      "      marker = _parse_requirement_marker(\n",
      "               ^^^^^^^^^^^^^^^^^^^^^^^^^^\n",
      "    File \"C:\\AdwCleaner\\Python311\\Lib\\site-packages\\setuptools\\_vendor\\packaging\\_parser.py\", line 147, in _parse_requirement_marker\n",
      "      tokenizer.raise_syntax_error(\n",
      "    File \"C:\\AdwCleaner\\Python311\\Lib\\site-packages\\setuptools\\_vendor\\packaging\\_tokenizer.py\", line 165, in raise_syntax_error\n",
      "      raise ParserSyntaxError(\n",
      "  setuptools.extern.packaging._tokenizer.ParserSyntaxError: Expected end or semicolon (after name and no valid version specifier)\n",
      "      python_version>\"3.7\"\n",
      "                    ^\n",
      "  \n",
      "  The above exception was the direct cause of the following exception:\n",
      "  \n",
      "  Traceback (most recent call last):\n",
      "    File \"<string>\", line 2, in <module>\n",
      "    File \"<pip-setuptools-caller>\", line 34, in <module>\n",
      "    File \"C:\\Users\\dhruv\\AppData\\Local\\Temp\\pip-install-l5a0jrll\\tensorflow-gpu_f194e65d6a0b41e49ed0d42a9cdcbb6d\\setup.py\", line 40, in <module>\n",
      "      setuptools.setup()\n",
      "    File \"C:\\AdwCleaner\\Python311\\Lib\\site-packages\\setuptools\\__init__.py\", line 102, in setup\n",
      "      _install_setup_requires(attrs)\n",
      "    File \"C:\\AdwCleaner\\Python311\\Lib\\site-packages\\setuptools\\__init__.py\", line 73, in _install_setup_requires\n",
      "      dist.parse_config_files(ignore_option_errors=True)\n",
      "    File \"C:\\AdwCleaner\\Python311\\Lib\\site-packages\\setuptools\\dist.py\", line 655, in parse_config_files\n",
      "      self._finalize_requires()\n",
      "    File \"C:\\AdwCleaner\\Python311\\Lib\\site-packages\\setuptools\\dist.py\", line 390, in _finalize_requires\n",
      "      self._normalize_requires()\n",
      "    File \"C:\\AdwCleaner\\Python311\\Lib\\site-packages\\setuptools\\dist.py\", line 405, in _normalize_requires\n",
      "      self.install_requires = list(map(str, _reqs.parse(install_requires)))\n",
      "                              ^^^^^^^^^^^^^^^^^^^^^^^^^^^^^^^^^^^^^^^^^^^^^\n",
      "    File \"C:\\AdwCleaner\\Python311\\Lib\\site-packages\\setuptools\\_vendor\\packaging\\requirements.py\", line 37, in __init__\n",
      "      raise InvalidRequirement(str(e)) from e\n",
      "  setuptools.extern.packaging.requirements.InvalidRequirement: Expected end or semicolon (after name and no valid version specifier)\n",
      "      python_version>\"3.7\"\n",
      "                    ^\n",
      "  [end of output]\n",
      "  \n",
      "  note: This error originates from a subprocess, and is likely not a problem with pip.\n",
      "error: metadata-generation-failed\n",
      "\n",
      "Encountered error while generating package metadata.\n",
      "\n",
      "See above for output.\n",
      "\n",
      "note: This is an issue with the package mentioned above, not pip.\n",
      "hint: See above for details.\n",
      "\n",
      "[notice] A new release of pip is available: 23.2.1 -> 23.3.1\n",
      "[notice] To update, run: python.exe -m pip install --upgrade pip\n"
     ]
    }
   ],
   "source": [
    "!pip install tensorflow tensorflow-gpu opencv-python matplotlib"
   ]
  },
  {
   "cell_type": "code",
   "execution_count": 3,
   "id": "ca83c8ee-9311-4a47-a3cb-5725593d7a82",
   "metadata": {},
   "outputs": [
    {
     "name": "stderr",
     "output_type": "stream",
     "text": [
      "DEPRECATION: Loading egg at c:\\adwcleaner\\python311\\lib\\site-packages\\vboxapi-1.0-py3.11.egg is deprecated. pip 23.3 will enforce this behaviour change. A possible replacement is to use pip for package installation..\n",
      "ERROR: Could not find a version that satisfies the requirement tensorflow==2.4.1 (from versions: 2.12.0rc0, 2.12.0rc1, 2.12.0, 2.12.1, 2.13.0rc0, 2.13.0rc1, 2.13.0rc2, 2.13.0, 2.13.1, 2.14.0rc0, 2.14.0rc1, 2.14.0, 2.14.1, 2.15.0rc0, 2.15.0rc1, 2.15.0)\n",
      "ERROR: No matching distribution found for tensorflow==2.4.1\n",
      "\n",
      "[notice] A new release of pip is available: 23.2.1 -> 23.3.1\n",
      "[notice] To update, run: python.exe -m pip install --upgrade pip\n"
     ]
    }
   ],
   "source": [
    "!pip install tensorflow==2.4.1"
   ]
  },
  {
   "cell_type": "code",
   "execution_count": 20,
   "id": "8d9d1a26-b87d-4eb8-870c-42379cd752f3",
   "metadata": {},
   "outputs": [
    {
     "name": "stdout",
     "output_type": "stream",
     "text": [
      "Requirement already satisfied: tensorflow in c:\\adwcleaner\\python311\\lib\\site-packages (2.13.0)\n",
      "Requirement already satisfied: tensorflow-intel==2.13.0 in c:\\adwcleaner\\python311\\lib\\site-packages (from tensorflow) (2.13.0)\n",
      "Requirement already satisfied: absl-py>=1.0.0 in c:\\adwcleaner\\python311\\lib\\site-packages (from tensorflow-intel==2.13.0->tensorflow) (1.4.0)\n",
      "Requirement already satisfied: astunparse>=1.6.0 in c:\\adwcleaner\\python311\\lib\\site-packages (from tensorflow-intel==2.13.0->tensorflow) (1.6.3)\n",
      "Requirement already satisfied: flatbuffers>=23.1.21 in c:\\adwcleaner\\python311\\lib\\site-packages (from tensorflow-intel==2.13.0->tensorflow) (23.5.26)\n",
      "Requirement already satisfied: gast<=0.4.0,>=0.2.1 in c:\\adwcleaner\\python311\\lib\\site-packages (from tensorflow-intel==2.13.0->tensorflow) (0.4.0)\n",
      "Requirement already satisfied: google-pasta>=0.1.1 in c:\\adwcleaner\\python311\\lib\\site-packages (from tensorflow-intel==2.13.0->tensorflow) (0.2.0)\n",
      "Requirement already satisfied: h5py>=2.9.0 in c:\\adwcleaner\\python311\\lib\\site-packages (from tensorflow-intel==2.13.0->tensorflow) (3.9.0)\n",
      "Requirement already satisfied: libclang>=13.0.0 in c:\\adwcleaner\\python311\\lib\\site-packages (from tensorflow-intel==2.13.0->tensorflow) (16.0.6)\n",
      "Requirement already satisfied: numpy<=1.24.3,>=1.22 in c:\\adwcleaner\\python311\\lib\\site-packages (from tensorflow-intel==2.13.0->tensorflow) (1.24.3)\n",
      "Requirement already satisfied: opt-einsum>=2.3.2 in c:\\adwcleaner\\python311\\lib\\site-packages (from tensorflow-intel==2.13.0->tensorflow) (3.3.0)\n",
      "Requirement already satisfied: packaging in c:\\adwcleaner\\python311\\lib\\site-packages (from tensorflow-intel==2.13.0->tensorflow) (23.1)\n",
      "Requirement already satisfied: protobuf!=4.21.0,!=4.21.1,!=4.21.2,!=4.21.3,!=4.21.4,!=4.21.5,<5.0.0dev,>=3.20.3 in c:\\adwcleaner\\python311\\lib\\site-packages (from tensorflow-intel==2.13.0->tensorflow) (3.20.3)\n",
      "Requirement already satisfied: setuptools in c:\\adwcleaner\\python311\\lib\\site-packages (from tensorflow-intel==2.13.0->tensorflow) (68.2.2)\n",
      "Requirement already satisfied: six>=1.12.0 in c:\\adwcleaner\\python311\\lib\\site-packages (from tensorflow-intel==2.13.0->tensorflow) (1.16.0)\n",
      "Requirement already satisfied: termcolor>=1.1.0 in c:\\adwcleaner\\python311\\lib\\site-packages (from tensorflow-intel==2.13.0->tensorflow) (2.3.0)\n",
      "Requirement already satisfied: typing-extensions<4.6.0,>=3.6.6 in c:\\adwcleaner\\python311\\lib\\site-packages (from tensorflow-intel==2.13.0->tensorflow) (4.5.0)\n",
      "Requirement already satisfied: wrapt>=1.11.0 in c:\\adwcleaner\\python311\\lib\\site-packages (from tensorflow-intel==2.13.0->tensorflow) (1.15.0)\n",
      "Requirement already satisfied: grpcio<2.0,>=1.24.3 in c:\\adwcleaner\\python311\\lib\\site-packages (from tensorflow-intel==2.13.0->tensorflow) (1.58.0)\n",
      "Requirement already satisfied: tensorboard<2.14,>=2.13 in c:\\adwcleaner\\python311\\lib\\site-packages (from tensorflow-intel==2.13.0->tensorflow) (2.13.0)\n",
      "Requirement already satisfied: tensorflow-estimator<2.14,>=2.13.0 in c:\\adwcleaner\\python311\\lib\\site-packages (from tensorflow-intel==2.13.0->tensorflow) (2.13.0)\n",
      "Requirement already satisfied: keras<2.14,>=2.13.1 in c:\\adwcleaner\\python311\\lib\\site-packages (from tensorflow-intel==2.13.0->tensorflow) (2.13.1)\n",
      "Requirement already satisfied: tensorflow-io-gcs-filesystem>=0.23.1 in c:\\adwcleaner\\python311\\lib\\site-packages (from tensorflow-intel==2.13.0->tensorflow) (0.31.0)\n",
      "Requirement already satisfied: wheel<1.0,>=0.23.0 in c:\\adwcleaner\\python311\\lib\\site-packages (from astunparse>=1.6.0->tensorflow-intel==2.13.0->tensorflow) (0.41.2)\n",
      "Requirement already satisfied: google-auth<3,>=1.6.3 in c:\\adwcleaner\\python311\\lib\\site-packages (from tensorboard<2.14,>=2.13->tensorflow-intel==2.13.0->tensorflow) (2.23.0)\n",
      "Requirement already satisfied: google-auth-oauthlib<1.1,>=0.5 in c:\\adwcleaner\\python311\\lib\\site-packages (from tensorboard<2.14,>=2.13->tensorflow-intel==2.13.0->tensorflow) (1.0.0)\n",
      "Requirement already satisfied: markdown>=2.6.8 in c:\\adwcleaner\\python311\\lib\\site-packages (from tensorboard<2.14,>=2.13->tensorflow-intel==2.13.0->tensorflow) (3.4.4)\n",
      "Requirement already satisfied: requests<3,>=2.21.0 in c:\\adwcleaner\\python311\\lib\\site-packages (from tensorboard<2.14,>=2.13->tensorflow-intel==2.13.0->tensorflow) (2.30.0)\n",
      "Requirement already satisfied: tensorboard-data-server<0.8.0,>=0.7.0 in c:\\adwcleaner\\python311\\lib\\site-packages (from tensorboard<2.14,>=2.13->tensorflow-intel==2.13.0->tensorflow) (0.7.1)\n",
      "Requirement already satisfied: werkzeug>=1.0.1 in c:\\adwcleaner\\python311\\lib\\site-packages (from tensorboard<2.14,>=2.13->tensorflow-intel==2.13.0->tensorflow) (2.3.7)\n",
      "Requirement already satisfied: cachetools<6.0,>=2.0.0 in c:\\adwcleaner\\python311\\lib\\site-packages (from google-auth<3,>=1.6.3->tensorboard<2.14,>=2.13->tensorflow-intel==2.13.0->tensorflow) (5.3.1)\n",
      "Requirement already satisfied: pyasn1-modules>=0.2.1 in c:\\adwcleaner\\python311\\lib\\site-packages (from google-auth<3,>=1.6.3->tensorboard<2.14,>=2.13->tensorflow-intel==2.13.0->tensorflow) (0.3.0)\n",
      "Requirement already satisfied: rsa<5,>=3.1.4 in c:\\adwcleaner\\python311\\lib\\site-packages (from google-auth<3,>=1.6.3->tensorboard<2.14,>=2.13->tensorflow-intel==2.13.0->tensorflow) (4.9)\n",
      "Requirement already satisfied: urllib3<2.0 in c:\\adwcleaner\\python311\\lib\\site-packages (from google-auth<3,>=1.6.3->tensorboard<2.14,>=2.13->tensorflow-intel==2.13.0->tensorflow) (1.26.16)\n",
      "Requirement already satisfied: requests-oauthlib>=0.7.0 in c:\\adwcleaner\\python311\\lib\\site-packages (from google-auth-oauthlib<1.1,>=0.5->tensorboard<2.14,>=2.13->tensorflow-intel==2.13.0->tensorflow) (1.3.1)\n",
      "Requirement already satisfied: charset-normalizer<4,>=2 in c:\\adwcleaner\\python311\\lib\\site-packages (from requests<3,>=2.21.0->tensorboard<2.14,>=2.13->tensorflow-intel==2.13.0->tensorflow) (3.1.0)\n",
      "Requirement already satisfied: idna<4,>=2.5 in c:\\adwcleaner\\python311\\lib\\site-packages (from requests<3,>=2.21.0->tensorboard<2.14,>=2.13->tensorflow-intel==2.13.0->tensorflow) (3.4)\n",
      "Requirement already satisfied: certifi>=2017.4.17 in c:\\adwcleaner\\python311\\lib\\site-packages (from requests<3,>=2.21.0->tensorboard<2.14,>=2.13->tensorflow-intel==2.13.0->tensorflow) (2023.5.7)\n",
      "Requirement already satisfied: MarkupSafe>=2.1.1 in c:\\adwcleaner\\python311\\lib\\site-packages (from werkzeug>=1.0.1->tensorboard<2.14,>=2.13->tensorflow-intel==2.13.0->tensorflow) (2.1.2)\n",
      "Requirement already satisfied: pyasn1<0.6.0,>=0.4.6 in c:\\adwcleaner\\python311\\lib\\site-packages (from pyasn1-modules>=0.2.1->google-auth<3,>=1.6.3->tensorboard<2.14,>=2.13->tensorflow-intel==2.13.0->tensorflow) (0.5.0)\n",
      "Requirement already satisfied: oauthlib>=3.0.0 in c:\\adwcleaner\\python311\\lib\\site-packages (from requests-oauthlib>=0.7.0->google-auth-oauthlib<1.1,>=0.5->tensorboard<2.14,>=2.13->tensorflow-intel==2.13.0->tensorflow) (3.2.2)\n"
     ]
    },
    {
     "name": "stderr",
     "output_type": "stream",
     "text": [
      "DEPRECATION: Loading egg at c:\\adwcleaner\\python311\\lib\\site-packages\\vboxapi-1.0-py3.11.egg is deprecated. pip 23.3 will enforce this behaviour change. A possible replacement is to use pip for package installation..\n"
     ]
    }
   ],
   "source": [
    "!pip install tensorflow"
   ]
  },
  {
   "cell_type": "code",
   "execution_count": 4,
   "id": "646d06e2-303f-44fd-91fe-99f222f21081",
   "metadata": {},
   "outputs": [
    {
     "name": "stdout",
     "output_type": "stream",
     "text": [
      "Requirement already satisfied: tensorflow==2.13.* in c:\\users\\dhruv\\onedrive\\desktop\\face\\face\\lib\\site-packages (2.13.0)\n",
      "Requirement already satisfied: tensorflow-intel==2.13.0 in c:\\users\\dhruv\\onedrive\\desktop\\face\\face\\lib\\site-packages (from tensorflow==2.13.*) (2.13.0)\n",
      "Requirement already satisfied: tensorflow-io-gcs-filesystem>=0.23.1 in c:\\users\\dhruv\\onedrive\\desktop\\face\\face\\lib\\site-packages (from tensorflow-intel==2.13.0->tensorflow==2.13.*) (0.31.0)\n",
      "Requirement already satisfied: protobuf!=4.21.0,!=4.21.1,!=4.21.2,!=4.21.3,!=4.21.4,!=4.21.5,<5.0.0dev,>=3.20.3 in c:\\users\\dhruv\\onedrive\\desktop\\face\\face\\lib\\site-packages (from tensorflow-intel==2.13.0->tensorflow==2.13.*) (4.24.3)\n",
      "Requirement already satisfied: termcolor>=1.1.0 in c:\\users\\dhruv\\onedrive\\desktop\\face\\face\\lib\\site-packages (from tensorflow-intel==2.13.0->tensorflow==2.13.*) (2.3.0)\n",
      "Requirement already satisfied: six>=1.12.0 in c:\\users\\dhruv\\onedrive\\desktop\\face\\face\\lib\\site-packages (from tensorflow-intel==2.13.0->tensorflow==2.13.*) (1.16.0)\n",
      "Requirement already satisfied: h5py>=2.9.0 in c:\\users\\dhruv\\onedrive\\desktop\\face\\face\\lib\\site-packages (from tensorflow-intel==2.13.0->tensorflow==2.13.*) (3.9.0)\n",
      "Requirement already satisfied: google-pasta>=0.1.1 in c:\\users\\dhruv\\onedrive\\desktop\\face\\face\\lib\\site-packages (from tensorflow-intel==2.13.0->tensorflow==2.13.*) (0.2.0)\n",
      "Requirement already satisfied: astunparse>=1.6.0 in c:\\users\\dhruv\\onedrive\\desktop\\face\\face\\lib\\site-packages (from tensorflow-intel==2.13.0->tensorflow==2.13.*) (1.6.3)\n",
      "Requirement already satisfied: numpy<=1.24.3,>=1.22 in c:\\users\\dhruv\\onedrive\\desktop\\face\\face\\lib\\site-packages (from tensorflow-intel==2.13.0->tensorflow==2.13.*) (1.24.3)\n",
      "Requirement already satisfied: typing-extensions<4.6.0,>=3.6.6 in c:\\users\\dhruv\\onedrive\\desktop\\face\\face\\lib\\site-packages (from tensorflow-intel==2.13.0->tensorflow==2.13.*) (4.5.0)\n",
      "Requirement already satisfied: wrapt>=1.11.0 in c:\\users\\dhruv\\onedrive\\desktop\\face\\face\\lib\\site-packages (from tensorflow-intel==2.13.0->tensorflow==2.13.*) (1.15.0)\n",
      "Requirement already satisfied: flatbuffers>=23.1.21 in c:\\users\\dhruv\\onedrive\\desktop\\face\\face\\lib\\site-packages (from tensorflow-intel==2.13.0->tensorflow==2.13.*) (23.5.26)\n",
      "Requirement already satisfied: libclang>=13.0.0 in c:\\users\\dhruv\\onedrive\\desktop\\face\\face\\lib\\site-packages (from tensorflow-intel==2.13.0->tensorflow==2.13.*) (16.0.6)\n",
      "Requirement already satisfied: opt-einsum>=2.3.2 in c:\\users\\dhruv\\onedrive\\desktop\\face\\face\\lib\\site-packages (from tensorflow-intel==2.13.0->tensorflow==2.13.*) (3.3.0)\n",
      "Requirement already satisfied: absl-py>=1.0.0 in c:\\users\\dhruv\\onedrive\\desktop\\face\\face\\lib\\site-packages (from tensorflow-intel==2.13.0->tensorflow==2.13.*) (2.0.0)\n",
      "Requirement already satisfied: grpcio<2.0,>=1.24.3 in c:\\users\\dhruv\\onedrive\\desktop\\face\\face\\lib\\site-packages (from tensorflow-intel==2.13.0->tensorflow==2.13.*) (1.58.0)\n",
      "Requirement already satisfied: tensorflow-estimator<2.14,>=2.13.0 in c:\\users\\dhruv\\onedrive\\desktop\\face\\face\\lib\\site-packages (from tensorflow-intel==2.13.0->tensorflow==2.13.*) (2.13.0)\n",
      "Requirement already satisfied: setuptools in c:\\users\\dhruv\\onedrive\\desktop\\face\\face\\lib\\site-packages (from tensorflow-intel==2.13.0->tensorflow==2.13.*) (65.5.0)\n",
      "Requirement already satisfied: packaging in c:\\users\\dhruv\\onedrive\\desktop\\face\\face\\lib\\site-packages (from tensorflow-intel==2.13.0->tensorflow==2.13.*) (23.1)\n",
      "Requirement already satisfied: tensorboard<2.14,>=2.13 in c:\\users\\dhruv\\onedrive\\desktop\\face\\face\\lib\\site-packages (from tensorflow-intel==2.13.0->tensorflow==2.13.*) (2.13.0)\n",
      "Requirement already satisfied: gast<=0.4.0,>=0.2.1 in c:\\users\\dhruv\\onedrive\\desktop\\face\\face\\lib\\site-packages (from tensorflow-intel==2.13.0->tensorflow==2.13.*) (0.4.0)\n",
      "Requirement already satisfied: keras<2.14,>=2.13.1 in c:\\users\\dhruv\\onedrive\\desktop\\face\\face\\lib\\site-packages (from tensorflow-intel==2.13.0->tensorflow==2.13.*) (2.13.1)\n",
      "Requirement already satisfied: wheel<1.0,>=0.23.0 in c:\\users\\dhruv\\onedrive\\desktop\\face\\face\\lib\\site-packages (from astunparse>=1.6.0->tensorflow-intel==2.13.0->tensorflow==2.13.*) (0.41.2)\n",
      "Requirement already satisfied: google-auth-oauthlib<1.1,>=0.5 in c:\\users\\dhruv\\onedrive\\desktop\\face\\face\\lib\\site-packages (from tensorboard<2.14,>=2.13->tensorflow-intel==2.13.0->tensorflow==2.13.*) (1.0.0)\n",
      "Requirement already satisfied: werkzeug>=1.0.1 in c:\\users\\dhruv\\onedrive\\desktop\\face\\face\\lib\\site-packages (from tensorboard<2.14,>=2.13->tensorflow-intel==2.13.0->tensorflow==2.13.*) (2.3.7)\n",
      "Requirement already satisfied: markdown>=2.6.8 in c:\\users\\dhruv\\onedrive\\desktop\\face\\face\\lib\\site-packages (from tensorboard<2.14,>=2.13->tensorflow-intel==2.13.0->tensorflow==2.13.*) (3.4.4)\n",
      "Requirement already satisfied: requests<3,>=2.21.0 in c:\\users\\dhruv\\onedrive\\desktop\\face\\face\\lib\\site-packages (from tensorboard<2.14,>=2.13->tensorflow-intel==2.13.0->tensorflow==2.13.*) (2.31.0)\n",
      "Requirement already satisfied: google-auth<3,>=1.6.3 in c:\\users\\dhruv\\onedrive\\desktop\\face\\face\\lib\\site-packages (from tensorboard<2.14,>=2.13->tensorflow-intel==2.13.0->tensorflow==2.13.*) (2.23.0)\n",
      "Requirement already satisfied: tensorboard-data-server<0.8.0,>=0.7.0 in c:\\users\\dhruv\\onedrive\\desktop\\face\\face\\lib\\site-packages (from tensorboard<2.14,>=2.13->tensorflow-intel==2.13.0->tensorflow==2.13.*) (0.7.1)\n",
      "Requirement already satisfied: pyasn1-modules>=0.2.1 in c:\\users\\dhruv\\onedrive\\desktop\\face\\face\\lib\\site-packages (from google-auth<3,>=1.6.3->tensorboard<2.14,>=2.13->tensorflow-intel==2.13.0->tensorflow==2.13.*) (0.3.0)\n",
      "Requirement already satisfied: cachetools<6.0,>=2.0.0 in c:\\users\\dhruv\\onedrive\\desktop\\face\\face\\lib\\site-packages (from google-auth<3,>=1.6.3->tensorboard<2.14,>=2.13->tensorflow-intel==2.13.0->tensorflow==2.13.*) (5.3.1)\n",
      "Requirement already satisfied: rsa<5,>=3.1.4 in c:\\users\\dhruv\\onedrive\\desktop\\face\\face\\lib\\site-packages (from google-auth<3,>=1.6.3->tensorboard<2.14,>=2.13->tensorflow-intel==2.13.0->tensorflow==2.13.*) (4.9)\n",
      "Requirement already satisfied: urllib3<2.0 in c:\\users\\dhruv\\onedrive\\desktop\\face\\face\\lib\\site-packages (from google-auth<3,>=1.6.3->tensorboard<2.14,>=2.13->tensorflow-intel==2.13.0->tensorflow==2.13.*) (1.26.16)\n",
      "Requirement already satisfied: requests-oauthlib>=0.7.0 in c:\\users\\dhruv\\onedrive\\desktop\\face\\face\\lib\\site-packages (from google-auth-oauthlib<1.1,>=0.5->tensorboard<2.14,>=2.13->tensorflow-intel==2.13.0->tensorflow==2.13.*) (1.3.1)\n",
      "Requirement already satisfied: certifi>=2017.4.17 in c:\\users\\dhruv\\onedrive\\desktop\\face\\face\\lib\\site-packages (from requests<3,>=2.21.0->tensorboard<2.14,>=2.13->tensorflow-intel==2.13.0->tensorflow==2.13.*) (2023.7.22)\n",
      "Requirement already satisfied: idna<4,>=2.5 in c:\\users\\dhruv\\onedrive\\desktop\\face\\face\\lib\\site-packages (from requests<3,>=2.21.0->tensorboard<2.14,>=2.13->tensorflow-intel==2.13.0->tensorflow==2.13.*) (3.4)\n",
      "Requirement already satisfied: charset-normalizer<4,>=2 in c:\\users\\dhruv\\onedrive\\desktop\\face\\face\\lib\\site-packages (from requests<3,>=2.21.0->tensorboard<2.14,>=2.13->tensorflow-intel==2.13.0->tensorflow==2.13.*) (3.2.0)\n",
      "Requirement already satisfied: MarkupSafe>=2.1.1 in c:\\users\\dhruv\\onedrive\\desktop\\face\\face\\lib\\site-packages (from werkzeug>=1.0.1->tensorboard<2.14,>=2.13->tensorflow-intel==2.13.0->tensorflow==2.13.*) (2.1.3)\n",
      "Requirement already satisfied: pyasn1<0.6.0,>=0.4.6 in c:\\users\\dhruv\\onedrive\\desktop\\face\\face\\lib\\site-packages (from pyasn1-modules>=0.2.1->google-auth<3,>=1.6.3->tensorboard<2.14,>=2.13->tensorflow-intel==2.13.0->tensorflow==2.13.*) (0.5.0)\n",
      "Requirement already satisfied: oauthlib>=3.0.0 in c:\\users\\dhruv\\onedrive\\desktop\\face\\face\\lib\\site-packages (from requests-oauthlib>=0.7.0->google-auth-oauthlib<1.1,>=0.5->tensorboard<2.14,>=2.13->tensorflow-intel==2.13.0->tensorflow==2.13.*) (3.2.2)\n",
      "Note: you may need to restart the kernel to use updated packages.\n"
     ]
    },
    {
     "name": "stderr",
     "output_type": "stream",
     "text": [
      "WARNING: You are using pip version 21.3.1; however, version 23.3.1 is available.\n",
      "You should consider upgrading via the 'C:\\Users\\dhruv\\OneDrive\\Desktop\\face\\face\\Scripts\\python.exe -m pip install --upgrade pip' command.\n"
     ]
    }
   ],
   "source": [
    "pip install tensorflow==2.13.*"
   ]
  },
  {
   "cell_type": "code",
   "execution_count": 5,
   "id": "a014de01-b4eb-46ce-9862-e59030f09540",
   "metadata": {},
   "outputs": [
    {
     "name": "stdout",
     "output_type": "stream",
     "text": [
      "Requirement already satisfied: opencv-python in c:\\adwcleaner\\python311\\lib\\site-packages (4.8.0.74)\n",
      "Requirement already satisfied: matplotlib in c:\\adwcleaner\\python311\\lib\\site-packages (3.7.1)\n",
      "Requirement already satisfied: numpy>=1.21.2 in c:\\adwcleaner\\python311\\lib\\site-packages (from opencv-python) (1.24.3)\n",
      "Requirement already satisfied: contourpy>=1.0.1 in c:\\adwcleaner\\python311\\lib\\site-packages (from matplotlib) (1.0.7)\n",
      "Requirement already satisfied: cycler>=0.10 in c:\\adwcleaner\\python311\\lib\\site-packages (from matplotlib) (0.11.0)\n",
      "Requirement already satisfied: fonttools>=4.22.0 in c:\\adwcleaner\\python311\\lib\\site-packages (from matplotlib) (4.39.4)\n",
      "Requirement already satisfied: kiwisolver>=1.0.1 in c:\\adwcleaner\\python311\\lib\\site-packages (from matplotlib) (1.4.4)\n",
      "Requirement already satisfied: packaging>=20.0 in c:\\adwcleaner\\python311\\lib\\site-packages (from matplotlib) (23.1)\n",
      "Requirement already satisfied: pillow>=6.2.0 in c:\\adwcleaner\\python311\\lib\\site-packages (from matplotlib) (9.5.0)\n",
      "Requirement already satisfied: pyparsing>=2.3.1 in c:\\adwcleaner\\python311\\lib\\site-packages (from matplotlib) (3.0.9)\n",
      "Requirement already satisfied: python-dateutil>=2.7 in c:\\adwcleaner\\python311\\lib\\site-packages (from matplotlib) (2.8.2)\n",
      "Requirement already satisfied: six>=1.5 in c:\\adwcleaner\\python311\\lib\\site-packages (from python-dateutil>=2.7->matplotlib) (1.16.0)\n"
     ]
    },
    {
     "name": "stderr",
     "output_type": "stream",
     "text": [
      "DEPRECATION: Loading egg at c:\\adwcleaner\\python311\\lib\\site-packages\\vboxapi-1.0-py3.11.egg is deprecated. pip 23.3 will enforce this behaviour change. A possible replacement is to use pip for package installation..\n",
      "\n",
      "[notice] A new release of pip is available: 23.2.1 -> 23.3.1\n",
      "[notice] To update, run: python.exe -m pip install --upgrade pip\n"
     ]
    }
   ],
   "source": [
    "!pip install opencv-python matplotlib"
   ]
  },
  {
   "cell_type": "code",
   "execution_count": 10,
   "id": "4acd68f2-9651-44d2-aaa1-22bf34a072cb",
   "metadata": {},
   "outputs": [],
   "source": [
    "# Import standard dependencies\n",
    "import cv2\n",
    "import os\n",
    "import random\n",
    "import numpy as np\n",
    "from matplotlib import pyplot as plt\n",
    "import tensorflow as tf"
   ]
  },
  {
   "cell_type": "code",
   "execution_count": 11,
   "id": "ce7a61e6-e773-49a5-ac15-375d60a5e975",
   "metadata": {},
   "outputs": [],
   "source": [
    "# Avoid OOM errors by setting GPU Memory Consumption Growth\n",
    "gpus = tf.config.experimental.list_physical_devices('GPU')\n",
    "for gpu in gpus: \n",
    "    tf.config.experimental.set_memory_growth(gpu, True)"
   ]
  },
  {
   "cell_type": "code",
   "execution_count": 12,
   "id": "8bf93586-172f-43e4-a535-87d50f5439f0",
   "metadata": {},
   "outputs": [],
   "source": [
    "# Import tensorflow dependencies - Functional API\n",
    "from tensorflow.keras.models import Model\n",
    "from tensorflow.keras.layers import Layer, Conv2D, Dense, MaxPooling2D, Input, Flatten\n",
    "import tensorflow as tf"
   ]
  },
  {
   "cell_type": "code",
   "execution_count": 13,
   "id": "35b50aff-1df7-4ef1-a0ec-8a9b9aac7303",
   "metadata": {},
   "outputs": [],
   "source": [
    "# Setup paths\n",
    "POS_PATH = os.path.join('data', 'positive')\n",
    "NEG_PATH = os.path.join('data', 'negative')\n",
    "ANC_PATH = os.path.join('data', 'anchor')"
   ]
  },
  {
   "cell_type": "code",
   "execution_count": 14,
   "id": "2174248d-2851-4fbe-8ec9-451983088bb1",
   "metadata": {},
   "outputs": [
    {
     "ename": "FileExistsError",
     "evalue": "[WinError 183] Cannot create a file when that file already exists: 'data\\\\positive'",
     "output_type": "error",
     "traceback": [
      "\u001b[1;31m---------------------------------------------------------------------------\u001b[0m",
      "\u001b[1;31mFileExistsError\u001b[0m                           Traceback (most recent call last)",
      "Cell \u001b[1;32mIn[14], line 2\u001b[0m\n\u001b[0;32m      1\u001b[0m \u001b[38;5;66;03m# Make the directories\u001b[39;00m\n\u001b[1;32m----> 2\u001b[0m \u001b[43mos\u001b[49m\u001b[38;5;241;43m.\u001b[39;49m\u001b[43mmakedirs\u001b[49m\u001b[43m(\u001b[49m\u001b[43mPOS_PATH\u001b[49m\u001b[43m)\u001b[49m\n\u001b[0;32m      3\u001b[0m os\u001b[38;5;241m.\u001b[39mmakedirs(NEG_PATH)\n\u001b[0;32m      4\u001b[0m os\u001b[38;5;241m.\u001b[39mmakedirs(ANC_PATH)\n",
      "File \u001b[1;32m<frozen os>:225\u001b[0m, in \u001b[0;36mmakedirs\u001b[1;34m(name, mode, exist_ok)\u001b[0m\n",
      "\u001b[1;31mFileExistsError\u001b[0m: [WinError 183] Cannot create a file when that file already exists: 'data\\\\positive'"
     ]
    }
   ],
   "source": [
    "# Make the directories\n",
    "os.makedirs(POS_PATH)\n",
    "os.makedirs(NEG_PATH)\n",
    "os.makedirs(ANC_PATH)"
   ]
  },
  {
   "cell_type": "code",
   "execution_count": 15,
   "id": "2eb5a88f-e297-4fa2-b2fe-129499d739fc",
   "metadata": {},
   "outputs": [],
   "source": [
    "# http://vis-www.cs.umass.edu/lfw/"
   ]
  },
  {
   "cell_type": "code",
   "execution_count": 16,
   "id": "d6d91ee4-3efe-4e73-bb68-4bb4e547a737",
   "metadata": {},
   "outputs": [],
   "source": [
    "# Uncompress Tar GZ Labelled Faces in the Wild Dataset\n",
    "!tar -xf lfw.tgz"
   ]
  },
  {
   "cell_type": "code",
   "execution_count": 17,
   "id": "938a52ca-6e49-410a-b614-ddde46933929",
   "metadata": {},
   "outputs": [],
   "source": [
    "# Move LFW Images to the following repository data/negative\n",
    "for directory in os.listdir('lfw'):\n",
    "    for file in os.listdir(os.path.join('lfw', directory)):\n",
    "        EX_PATH = os.path.join('lfw', directory, file)\n",
    "        NEW_PATH = os.path.join(NEG_PATH, file)\n",
    "        os.replace(EX_PATH, NEW_PATH)"
   ]
  },
  {
   "cell_type": "code",
   "execution_count": 18,
   "id": "293b6beb-1169-45b2-8b91-77ec599b770a",
   "metadata": {},
   "outputs": [],
   "source": [
    "# Import uuid library to generate unique image names\n",
    "import uuid"
   ]
  },
  {
   "cell_type": "code",
   "execution_count": 19,
   "id": "5f83eb9d-f2c0-4d57-9993-d0aa051796a2",
   "metadata": {},
   "outputs": [
    {
     "data": {
      "text/plain": [
       "'data\\\\anchor\\\\480798cb-8ad6-11ee-b8d9-ec4d80240201.jpg'"
      ]
     },
     "execution_count": 19,
     "metadata": {},
     "output_type": "execute_result"
    }
   ],
   "source": [
    "os.path.join(ANC_PATH,'{}.jpg'.format(uuid.uuid1()))"
   ]
  },
  {
   "cell_type": "code",
   "execution_count": 20,
   "id": "5bc0360d-4902-4530-acdc-92801c7546d2",
   "metadata": {},
   "outputs": [],
   "source": [
    "# Establish a connection to the webcam\n",
    "cap = cv2.VideoCapture(0)\n",
    "while cap.isOpened(): \n",
    "    ret, frame = cap.read()\n",
    "\n",
    "    frame = frame[120:120+250,200:200+250, :]\n",
    "\n",
    "    #collect anchors\n",
    "    if cv2.waitKey(1) & 0XFF == ord('a'):\n",
    "        # Create the unique file path \n",
    "        imgname = os.path.join(ANC_PATH, '{}.jpg'.format(uuid.uuid1()))\n",
    "        # Write out anchor image\n",
    "        cv2.imwrite(imgname, frame)\n",
    "\n",
    "    #collect positives\n",
    "    if cv2.waitKey(1) & 0XFF == ord('p'):\n",
    "        # Create the unique file path \n",
    "        imgname = os.path.join(POS_PATH, '{}.jpg'.format(uuid.uuid1()))\n",
    "        # Write out anchor image\n",
    "        cv2.imwrite(imgname, frame)\n",
    "\n",
    "# Show image back to screen\n",
    "    cv2.imshow('Image Collection', frame)\n",
    "    \n",
    "    # Breaking gracefully\n",
    "    if cv2.waitKey(1) & 0XFF == ord('q'):\n",
    "        break\n",
    "        \n",
    "# Release the webcam\n",
    "cap.release()\n",
    "# Close the image show frame\n",
    "cv2.destroyAllWindows()"
   ]
  },
  {
   "cell_type": "code",
   "execution_count": 25,
   "id": "9d8360c3-148e-4578-b678-ef6b088baa84",
   "metadata": {},
   "outputs": [
    {
     "data": {
      "text/plain": [
       "<matplotlib.image.AxesImage at 0x1ccd40e5750>"
      ]
     },
     "execution_count": 25,
     "metadata": {},
     "output_type": "execute_result"
    },
    {
     "data": {
      "image/png": "[encoded data removed]",
      "text/plain": [
       "<Figure size 640x480 with 1 Axes>"
      ]
     },
     "metadata": {},
     "output_type": "display_data"
    }
   ],
   "source": [
    "plt.imshow(frame[120:120+250,200:200+250, :])"
   ]
  },
  {
   "cell_type": "code",
   "execution_count": 26,
   "id": "a4e47d1c-7a33-44a0-b192-89080b5488a8",
   "metadata": {},
   "outputs": [],
   "source": [
    "anchor = tf.data.Dataset.list_files(ANC_PATH+'\\*.jpg').take(100)\n",
    "positive = tf.data.Dataset.list_files(POS_PATH+'\\*.jpg').take(100)\n",
    "negative = tf.data.Dataset.list_files(NEG_PATH+'\\*.jpg').take(100)"
   ]
  },
  {
   "cell_type": "code",
   "execution_count": 27,
   "id": "617252b0-22c4-4db6-a464-62de89e1ce8b",
   "metadata": {},
   "outputs": [],
   "source": [
    "dir_test = anchor.as_numpy_iterator()"
   ]
  },
  {
   "cell_type": "code",
   "execution_count": 28,
   "id": "36b97af1-e20d-47bc-adcc-e6ea5ac021f4",
   "metadata": {},
   "outputs": [
    {
     "name": "stdout",
     "output_type": "stream",
     "text": [
      "b'data\\\\anchor\\\\afa3a0c3-5aaa-11ee-ac03-e868eb2b8f93.jpg'\n"
     ]
    }
   ],
   "source": [
    "print(dir_test.next())"
   ]
  },
  {
   "cell_type": "code",
   "execution_count": 29,
   "id": "9590b232-1a8c-4fdd-9b56-969f066127c0",
   "metadata": {},
   "outputs": [],
   "source": [
    "def preprocess(file_path):\n",
    "    \n",
    "    # Read in image from file path\n",
    "    byte_img = tf.io.read_file(file_path)\n",
    "    # Load in the image \n",
    "    img = tf.io.decode_jpeg(byte_img)\n",
    "    \n",
    "    # Preprocessing steps - resizing the image to be 100x100x3\n",
    "    img = tf.image.resize(img, (100,100))\n",
    "    # Scale image to be between 0 and 1 \n",
    "    img = img / 255.0\n",
    "    \n",
    "    # Return image\n",
    "    return img"
   ]
  },
  {
   "cell_type": "code",
   "execution_count": 30,
   "id": "04361211-733e-4af5-ac5d-30a01085be57",
   "metadata": {},
   "outputs": [],
   "source": [
    "img = preprocess('data\\\\anchor\\\\b1413c75-5aaa-11ee-a116-e868eb2b8f93.jpg')"
   ]
  },
  {
   "cell_type": "code",
   "execution_count": 31,
   "id": "4e6c1a40-ecf4-4599-beee-de9000c40291",
   "metadata": {},
   "outputs": [
    {
     "data": {
      "text/plain": [
       "0.0"
      ]
     },
     "execution_count": 31,
     "metadata": {},
     "output_type": "execute_result"
    }
   ],
   "source": [
    "img.numpy().min() "
   ]
  },
  {
   "cell_type": "code",
   "execution_count": 32,
   "id": "5e67ad4e-3b51-448d-8b28-dfc916ba431f",
   "metadata": {},
   "outputs": [
    {
     "data": {
      "text/plain": [
       "<matplotlib.image.AxesImage at 0x1ccd7db61d0>"
      ]
     },
     "execution_count": 32,
     "metadata": {},
     "output_type": "execute_result"
    },
    {
     "data": {
      "image/png": "[encoded data removed]",
      "text/plain": [
       "<Figure size 640x480 with 1 Axes>"
      ]
     },
     "metadata": {},
     "output_type": "display_data"
    }
   ],
   "source": [
    "plt.imshow(img)"
   ]
  },
  {
   "cell_type": "code",
   "execution_count": 33,
   "id": "896b93d2-053e-4c09-84e8-0285c86699e3",
   "metadata": {},
   "outputs": [
    {
     "ename": "NameError",
     "evalue": "name 'dataset' is not defined",
     "output_type": "error",
     "traceback": [
      "\u001b[1;31m---------------------------------------------------------------------------\u001b[0m",
      "\u001b[1;31mNameError\u001b[0m                                 Traceback (most recent call last)",
      "Cell \u001b[1;32mIn[33], line 1\u001b[0m\n\u001b[1;32m----> 1\u001b[0m \u001b[43mdataset\u001b[49m\u001b[38;5;241m.\u001b[39mmap(preprocess)\n",
      "\u001b[1;31mNameError\u001b[0m: name 'dataset' is not defined"
     ]
    }
   ],
   "source": [
    "dataset.map(preprocess)"
   ]
  },
  {
   "cell_type": "code",
   "execution_count": 34,
   "id": "3b3830f4-885a-42fb-8220-80a4c855126b",
   "metadata": {},
   "outputs": [],
   "source": [
    "# (anchor, positive) => 1,1,1,1,1\n",
    "# (anchor, negative) => 0,0,0,0,0"
   ]
  },
  {
   "cell_type": "code",
   "execution_count": 35,
   "id": "5f8a4e5f-ada3-49e3-b0ed-61adeb79b2ee",
   "metadata": {},
   "outputs": [
    {
     "data": {
      "text/plain": [
       "<tf.Tensor: shape=(100,), dtype=float32, numpy=\n",
       "array([1., 1., 1., 1., 1., 1., 1., 1., 1., 1., 1., 1., 1., 1., 1., 1., 1.,\n",
       "       1., 1., 1., 1., 1., 1., 1., 1., 1., 1., 1., 1., 1., 1., 1., 1., 1.,\n",
       "       1., 1., 1., 1., 1., 1., 1., 1., 1., 1., 1., 1., 1., 1., 1., 1., 1.,\n",
       "       1., 1., 1., 1., 1., 1., 1., 1., 1., 1., 1., 1., 1., 1., 1., 1., 1.,\n",
       "       1., 1., 1., 1., 1., 1., 1., 1., 1., 1., 1., 1., 1., 1., 1., 1., 1.,\n",
       "       1., 1., 1., 1., 1., 1., 1., 1., 1., 1., 1., 1., 1., 1., 1.],\n",
       "      dtype=float32)>"
      ]
     },
     "execution_count": 35,
     "metadata": {},
     "output_type": "execute_result"
    }
   ],
   "source": [
    "tf.ones(len(anchor))"
   ]
  },
  {
   "cell_type": "code",
   "execution_count": 60,
   "id": "65caf834-2182-4f9d-bffa-86db8bdae366",
   "metadata": {},
   "outputs": [],
   "source": [
    "positives = tf.data.Dataset.zip((anchor, positive, tf.data.Dataset.from_tensor_slices(tf.ones(len(anchor)))))\n",
    "negatives = tf.data.Dataset.zip((anchor, negative, tf.data.Dataset.from_tensor_slices(tf.zeros(len(anchor)))))\n",
    "data = positives.concatenate(negatives)"
   ]
  },
  {
   "cell_type": "code",
   "execution_count": 77,
   "id": "4d9eec8c-4c51-40a3-aa32-fcc932d64e64",
   "metadata": {},
   "outputs": [
    {
     "data": {
      "text/plain": [
       "<_ConcatenateDataset element_spec=(TensorSpec(shape=(), dtype=tf.string, name=None), TensorSpec(shape=(), dtype=tf.string, name=None), TensorSpec(shape=(), dtype=tf.float32, name=None))>"
      ]
     },
     "execution_count": 77,
     "metadata": {},
     "output_type": "execute_result"
    }
   ],
   "source": [
    "data"
   ]
  },
  {
   "cell_type": "code",
   "execution_count": 78,
   "id": "f401b592-cbf5-4862-85e4-6e8fe295ceae",
   "metadata": {},
   "outputs": [],
   "source": [
    "samples = data.as_numpy_iterator()"
   ]
  },
  {
   "cell_type": "code",
   "execution_count": 79,
   "id": "ed375453-12da-4eb7-8a30-b6fe51536b80",
   "metadata": {},
   "outputs": [],
   "source": [
    "exampple = samples.next()"
   ]
  },
  {
   "cell_type": "code",
   "execution_count": 80,
   "id": "985a81f0-ae5d-4a8d-b5b8-fe55eeb0052c",
   "metadata": {},
   "outputs": [
    {
     "data": {
      "text/plain": [
       "(b'data\\\\anchor\\\\a7bf7d77-614d-11ee-bc8a-c610c24ca288.jpg',\n",
       " b'data\\\\positive\\\\dce19871-5aaa-11ee-8346-e868eb2b8f93.jpg',\n",
       " 1.0)"
      ]
     },
     "execution_count": 80,
     "metadata": {},
     "output_type": "execute_result"
    }
   ],
   "source": [
    "exampple"
   ]
  },
  {
   "cell_type": "code",
   "execution_count": 81,
   "id": "aae86d54-a510-422c-a8b0-8a431693b83b",
   "metadata": {},
   "outputs": [],
   "source": [
    "def preprocess_twin(input_img, validation_img, label):\n",
    "    return(preprocess(input_img), preprocess(validation_img), label)"
   ]
  },
  {
   "cell_type": "code",
   "execution_count": 82,
   "id": "6ceffc5b-d6a8-4d2d-b500-a7c6a270c12e",
   "metadata": {},
   "outputs": [],
   "source": [
    "res = preprocess_twin(*exampple)"
   ]
  },
  {
   "cell_type": "code",
   "execution_count": 83,
   "id": "1742311c-8136-4823-99ec-306d79e7e8f2",
   "metadata": {},
   "outputs": [
    {
     "data": {
      "text/plain": [
       "<matplotlib.image.AxesImage at 0x1ccd80eb250>"
      ]
     },
     "execution_count": 83,
     "metadata": {},
     "output_type": "execute_result"
    },
    {
     "data": {
      "image/png": "[encoded data removed]",
      "text/plain": [
       "<Figure size 640x480 with 1 Axes>"
      ]
     },
     "metadata": {},
     "output_type": "display_data"
    }
   ],
   "source": [
    "plt.imshow(res[1])"
   ]
  },
  {
   "cell_type": "code",
   "execution_count": 84,
   "id": "271d1562-3984-4d85-b907-f7b4f99e22aa",
   "metadata": {},
   "outputs": [
    {
     "data": {
      "text/plain": [
       "1.0"
      ]
     },
     "execution_count": 84,
     "metadata": {},
     "output_type": "execute_result"
    }
   ],
   "source": [
    "res[2]"
   ]
  },
  {
   "cell_type": "code",
   "execution_count": 85,
   "id": "b351e7ce-7c56-4f7c-b5b0-5ebaa5123cf5",
   "metadata": {},
   "outputs": [],
   "source": [
    "# Build dataloader pipeline\n",
    "data = data.map(preprocess_twin)\n",
    "data = data.cache()\n",
    "data = data.shuffle(buffer_size=1024)"
   ]
  },
  {
   "cell_type": "code",
   "execution_count": 86,
   "id": "e1f772fe-d428-4463-87e8-e8ebd18f6838",
   "metadata": {},
   "outputs": [],
   "source": [
    "# Training partition\n",
    "train_data = data.take(round(len(data)*.7))\n",
    "train_data = train_data.batch(16)\n",
    "train_data = train_data.prefetch(8)"
   ]
  },
  {
   "cell_type": "code",
   "execution_count": 87,
   "id": "9a6b9ebd-67a4-46bb-af79-821fe025be0a",
   "metadata": {},
   "outputs": [],
   "source": [
    "# Testing partition\n",
    "test_data = data.skip(round(len(data)*.7))\n",
    "test_data = test_data.take(round(len(data)*.3))\n",
    "test_data = test_data.batch(16)\n",
    "test_data = test_data.prefetch(8)"
   ]
  },
  {
   "cell_type": "code",
   "execution_count": 88,
   "id": "e3fc0a68-8c55-44ee-9564-21fb8a8853ca",
   "metadata": {},
   "outputs": [],
   "source": [
    "inp = Input(shape=(100,100,3), name='input_image')"
   ]
  },
  {
   "cell_type": "code",
   "execution_count": 89,
   "id": "3f83e69e-1acc-4642-8193-b3e1d19e49b7",
   "metadata": {},
   "outputs": [],
   "source": [
    "c1 = Conv2D(64, (10,10), activation='relu')(inp)"
   ]
  },
  {
   "cell_type": "code",
   "execution_count": 90,
   "id": "360f8f0c-025d-491d-a8da-a3c12494919c",
   "metadata": {},
   "outputs": [],
   "source": [
    "m1 = MaxPooling2D(64, (2,2), padding='same')(c1)"
   ]
  },
  {
   "cell_type": "code",
   "execution_count": 91,
   "id": "02a5d30e-3102-47c9-9d8d-3add2e6199f3",
   "metadata": {},
   "outputs": [],
   "source": [
    "c2 = Conv2D(128, (7,7), activation='relu')(m1)\n",
    "m2 = MaxPooling2D(64, (2,2), padding='same')(c2)"
   ]
  },
  {
   "cell_type": "code",
   "execution_count": 92,
   "id": "0d49ca84-e414-47ae-acd0-751d7ea86f70",
   "metadata": {},
   "outputs": [],
   "source": [
    "c3 = Conv2D(128, (4,4), activation='relu')(m2)\n",
    "m3 = MaxPooling2D(64, (2,2), padding='same')(c3)"
   ]
  },
  {
   "cell_type": "code",
   "execution_count": 93,
   "id": "6162e578-b99f-4c11-99cd-0024c4b86531",
   "metadata": {},
   "outputs": [],
   "source": [
    "c4 = Conv2D(256, (4,4), activation='relu')(m3)\n",
    "f1 = Flatten()(c4)\n",
    "d1 = Dense(4096, activation='sigmoid')(f1)"
   ]
  },
  {
   "cell_type": "code",
   "execution_count": 94,
   "id": "4ff88b4d-d49c-4dab-a23e-27890db7be3f",
   "metadata": {},
   "outputs": [],
   "source": [
    "mod = Model(inputs=[inp], outputs=[d1], name='embedding')"
   ]
  },
  {
   "cell_type": "code",
   "execution_count": 95,
   "id": "cafd2740-7da7-48fd-8fc2-a207e555b210",
   "metadata": {},
   "outputs": [
    {
     "name": "stdout",
     "output_type": "stream",
     "text": [
      "Model: \"embedding\"\n",
      "_________________________________________________________________\n",
      " Layer (type)                Output Shape              Param #   \n",
      "=================================================================\n",
      " input_image (InputLayer)    [(None, 100, 100, 3)]     0         \n",
      "                                                                 \n",
      " conv2d (Conv2D)             (None, 91, 91, 64)        19264     \n",
      "                                                                 \n",
      " max_pooling2d (MaxPooling2  (None, 46, 46, 64)        0         \n",
      " D)                                                              \n",
      "                                                                 \n",
      " conv2d_1 (Conv2D)           (None, 40, 40, 128)       401536    \n",
      "                                                                 \n",
      " max_pooling2d_1 (MaxPoolin  (None, 20, 20, 128)       0         \n",
      " g2D)                                                            \n",
      "                                                                 \n",
      " conv2d_2 (Conv2D)           (None, 17, 17, 128)       262272    \n",
      "                                                                 \n",
      " max_pooling2d_2 (MaxPoolin  (None, 9, 9, 128)         0         \n",
      " g2D)                                                            \n",
      "                                                                 \n",
      " conv2d_3 (Conv2D)           (None, 6, 6, 256)         524544    \n",
      "                                                                 \n",
      " flatten (Flatten)           (None, 9216)              0         \n",
      "                                                                 \n",
      " dense (Dense)               (None, 4096)              37752832  \n",
      "                                                                 \n",
      "=================================================================\n",
      "Total params: 38960448 (148.62 MB)\n",
      "Trainable params: 38960448 (148.62 MB)\n",
      "Non-trainable params: 0 (0.00 Byte)\n",
      "_________________________________________________________________\n"
     ]
    }
   ],
   "source": [
    "mod.summary()"
   ]
  },
  {
   "cell_type": "code",
   "execution_count": 96,
   "id": "3432cd83-ec9e-46e5-bde9-7a878c928557",
   "metadata": {},
   "outputs": [],
   "source": [
    "def make_embedding(): \n",
    "    inp = Input(shape=(100,100,3), name='input_image')\n",
    "    \n",
    "    # First block\n",
    "    c1 = Conv2D(64, (10,10), activation='relu')(inp)\n",
    "    m1 = MaxPooling2D(64, (2,2), padding='same')(c1)\n",
    "    \n",
    "    # Second block\n",
    "    c2 = Conv2D(128, (7,7), activation='relu')(m1)\n",
    "    m2 = MaxPooling2D(64, (2,2), padding='same')(c2)\n",
    "    \n",
    "    # Third block \n",
    "    c3 = Conv2D(128, (4,4), activation='relu')(m2)\n",
    "    m3 = MaxPooling2D(64, (2,2), padding='same')(c3)\n",
    "    \n",
    "    # Final embedding block\n",
    "    c4 = Conv2D(256, (4,4), activation='relu')(m3)\n",
    "    f1 = Flatten()(c4)\n",
    "    d1 = Dense(4096, activation='sigmoid')(f1)\n",
    "    \n",
    "    \n",
    "    return Model(inputs=[inp], outputs=[d1], name='embedding')"
   ]
  },
  {
   "cell_type": "code",
   "execution_count": 97,
   "id": "4c6b7640-07cb-48ae-9d5a-47d06f4f7895",
   "metadata": {},
   "outputs": [],
   "source": [
    "embedding = make_embedding()"
   ]
  },
  {
   "cell_type": "code",
   "execution_count": 98,
   "id": "1722c10b-547b-41a2-b55b-e75403c25993",
   "metadata": {},
   "outputs": [
    {
     "name": "stdout",
     "output_type": "stream",
     "text": [
      "Model: \"embedding\"\n",
      "_________________________________________________________________\n",
      " Layer (type)                Output Shape              Param #   \n",
      "=================================================================\n",
      " input_image (InputLayer)    [(None, 100, 100, 3)]     0         \n",
      "                                                                 \n",
      " conv2d_4 (Conv2D)           (None, 91, 91, 64)        19264     \n",
      "                                                                 \n",
      " max_pooling2d_3 (MaxPoolin  (None, 46, 46, 64)        0         \n",
      " g2D)                                                            \n",
      "                                                                 \n",
      " conv2d_5 (Conv2D)           (None, 40, 40, 128)       401536    \n",
      "                                                                 \n",
      " max_pooling2d_4 (MaxPoolin  (None, 20, 20, 128)       0         \n",
      " g2D)                                                            \n",
      "                                                                 \n",
      " conv2d_6 (Conv2D)           (None, 17, 17, 128)       262272    \n",
      "                                                                 \n",
      " max_pooling2d_5 (MaxPoolin  (None, 9, 9, 128)         0         \n",
      " g2D)                                                            \n",
      "                                                                 \n",
      " conv2d_7 (Conv2D)           (None, 6, 6, 256)         524544    \n",
      "                                                                 \n",
      " flatten_1 (Flatten)         (None, 9216)              0         \n",
      "                                                                 \n",
      " dense_1 (Dense)             (None, 4096)              37752832  \n",
      "                                                                 \n",
      "=================================================================\n",
      "Total params: 38960448 (148.62 MB)\n",
      "Trainable params: 38960448 (148.62 MB)\n",
      "Non-trainable params: 0 (0.00 Byte)\n",
      "_________________________________________________________________\n"
     ]
    }
   ],
   "source": [
    "embedding.summary()"
   ]
  },
  {
   "cell_type": "code",
   "execution_count": 99,
   "id": "60ccb734-3749-4bd4-9117-c852ea119e3d",
   "metadata": {},
   "outputs": [],
   "source": [
    "# Siamese L1 Distance class\n",
    "class L1Dist(Layer):\n",
    "    \n",
    "    # Init method - inheritance\n",
    "    def __init__(self, **kwargs):\n",
    "        super().__init__()\n",
    "       \n",
    "    # Magic happens here - similarity calculation\n",
    "    def call(self, input_embedding, validation_embedding):\n",
    "        return tf.math.abs(input_embedding - validation_embedding)"
   ]
  },
  {
   "cell_type": "code",
   "execution_count": 100,
   "id": "7df2bbd0-5192-497f-b703-7e0728cc424d",
   "metadata": {},
   "outputs": [],
   "source": [
    "l1 = L1Dist()"
   ]
  },
  {
   "cell_type": "code",
   "execution_count": 101,
   "id": "021a5034-d235-42f4-b4be-41e7b0732ed4",
   "metadata": {},
   "outputs": [
    {
     "ename": "NameError",
     "evalue": "name 'anchor_embedding' is not defined",
     "output_type": "error",
     "traceback": [
      "\u001b[1;31m---------------------------------------------------------------------------\u001b[0m",
      "\u001b[1;31mNameError\u001b[0m                                 Traceback (most recent call last)",
      "Cell \u001b[1;32mIn[101], line 1\u001b[0m\n\u001b[1;32m----> 1\u001b[0m l1(\u001b[43manchor_embedding\u001b[49m, validation_embedding)\n",
      "\u001b[1;31mNameError\u001b[0m: name 'anchor_embedding' is not defined"
     ]
    }
   ],
   "source": [
    "l1(anchor_embedding, validation_embedding)"
   ]
  },
  {
   "cell_type": "code",
   "execution_count": 102,
   "id": "6d6212f9-3071-43a8-9c82-2a0121227152",
   "metadata": {},
   "outputs": [],
   "source": [
    "input_image = Input(name='input_img', shape=(100,100,3))\n",
    "validation_image = Input(name='validation_img', shape=(100,100,3))"
   ]
  },
  {
   "cell_type": "code",
   "execution_count": 103,
   "id": "e078f29e-a157-4c46-af10-c069b10384f6",
   "metadata": {},
   "outputs": [],
   "source": [
    "inp_embedding = embedding(input_image)\n",
    "val_embedding = embedding(validation_image)"
   ]
  },
  {
   "cell_type": "code",
   "execution_count": 104,
   "id": "257cc850-28f0-44af-8b0c-49833e05b7c5",
   "metadata": {},
   "outputs": [],
   "source": [
    "siamese_layer = L1Dist()"
   ]
  },
  {
   "cell_type": "code",
   "execution_count": 105,
   "id": "8e221476-6d16-4e33-b130-d75e9e87f156",
   "metadata": {},
   "outputs": [],
   "source": [
    "distances = siamese_layer(inp_embedding, val_embedding)"
   ]
  },
  {
   "cell_type": "code",
   "execution_count": 106,
   "id": "a8bed243-ed3b-46a3-94db-abd5b429cce6",
   "metadata": {},
   "outputs": [],
   "source": [
    "classifier = Dense(1, activation='sigmoid')(distances)"
   ]
  },
  {
   "cell_type": "code",
   "execution_count": 107,
   "id": "fc13c69f-67b4-4531-85df-9c97ad0683b4",
   "metadata": {},
   "outputs": [
    {
     "data": {
      "text/plain": [
       "<KerasTensor: shape=(None, 1) dtype=float32 (created by layer 'dense_2')>"
      ]
     },
     "execution_count": 107,
     "metadata": {},
     "output_type": "execute_result"
    }
   ],
   "source": [
    "classifier"
   ]
  },
  {
   "cell_type": "code",
   "execution_count": 108,
   "id": "0c6c7ff1-867e-47d7-8c9c-3781bbd7d454",
   "metadata": {},
   "outputs": [],
   "source": [
    "siamese_network = Model(inputs=[input_image, validation_image], outputs=classifier, name='SiameseNetwork')"
   ]
  },
  {
   "cell_type": "code",
   "execution_count": 109,
   "id": "096b9a25-0721-4764-aa42-dfc26f536fff",
   "metadata": {},
   "outputs": [
    {
     "name": "stdout",
     "output_type": "stream",
     "text": [
      "Model: \"SiameseNetwork\"\n",
      "__________________________________________________________________________________________________\n",
      " Layer (type)                Output Shape                 Param #   Connected to                  \n",
      "==================================================================================================\n",
      " input_img (InputLayer)      [(None, 100, 100, 3)]        0         []                            \n",
      "                                                                                                  \n",
      " validation_img (InputLayer  [(None, 100, 100, 3)]        0         []                            \n",
      " )                                                                                                \n",
      "                                                                                                  \n",
      " embedding (Functional)      (None, 4096)                 3896044   ['input_img[0][0]',           \n",
      "                                                          8          'validation_img[0][0]']      \n",
      "                                                                                                  \n",
      " l1_dist_1 (L1Dist)          (None, 4096)                 0         ['embedding[0][0]',           \n",
      "                                                                     'embedding[1][0]']           \n",
      "                                                                                                  \n",
      " dense_2 (Dense)             (None, 1)                    4097      ['l1_dist_1[0][0]']           \n",
      "                                                                                                  \n",
      "==================================================================================================\n",
      "Total params: 38964545 (148.64 MB)\n",
      "Trainable params: 38964545 (148.64 MB)\n",
      "Non-trainable params: 0 (0.00 Byte)\n",
      "__________________________________________________________________________________________________\n"
     ]
    }
   ],
   "source": [
    "siamese_network.summary()"
   ]
  },
  {
   "cell_type": "code",
   "execution_count": 110,
   "id": "cf32143d-29e2-4800-a0f7-09394c4a2b50",
   "metadata": {},
   "outputs": [],
   "source": [
    "def make_siamese_model(): \n",
    "    \n",
    "    # Anchor image input in the network\n",
    "    input_image = Input(name='input_img', shape=(100,100,3))\n",
    "    \n",
    "    # Validation image in the network \n",
    "    validation_image = Input(name='validation_img', shape=(100,100,3))\n",
    "    \n",
    "    # Combine siamese distance components\n",
    "    siamese_layer = L1Dist()\n",
    "    siamese_layer._name = 'distance'\n",
    "    distances = siamese_layer(embedding(input_image), embedding(validation_image))\n",
    "    \n",
    "    # Classification layer \n",
    "    classifier = Dense(1, activation='sigmoid')(distances)\n",
    "    \n",
    "    return Model(inputs=[input_image, validation_image], outputs=classifier, name='SiameseNetwork')"
   ]
  },
  {
   "cell_type": "code",
   "execution_count": 111,
   "id": "f7064725-12dc-4877-a6b9-8f548aa2687d",
   "metadata": {},
   "outputs": [],
   "source": [
    "siamese_model = make_siamese_model()"
   ]
  },
  {
   "cell_type": "code",
   "execution_count": 112,
   "id": "9fa83097-fb7b-44a6-a5a7-222e47a32b0e",
   "metadata": {},
   "outputs": [
    {
     "name": "stdout",
     "output_type": "stream",
     "text": [
      "Model: \"SiameseNetwork\"\n",
      "__________________________________________________________________________________________________\n",
      " Layer (type)                Output Shape                 Param #   Connected to                  \n",
      "==================================================================================================\n",
      " input_img (InputLayer)      [(None, 100, 100, 3)]        0         []                            \n",
      "                                                                                                  \n",
      " validation_img (InputLayer  [(None, 100, 100, 3)]        0         []                            \n",
      " )                                                                                                \n",
      "                                                                                                  \n",
      " embedding (Functional)      (None, 4096)                 3896044   ['input_img[0][0]',           \n",
      "                                                          8          'validation_img[0][0]']      \n",
      "                                                                                                  \n",
      " distance (L1Dist)           (None, 4096)                 0         ['embedding[2][0]',           \n",
      "                                                                     'embedding[3][0]']           \n",
      "                                                                                                  \n",
      " dense_3 (Dense)             (None, 1)                    4097      ['distance[0][0]']            \n",
      "                                                                                                  \n",
      "==================================================================================================\n",
      "Total params: 38964545 (148.64 MB)\n",
      "Trainable params: 38964545 (148.64 MB)\n",
      "Non-trainable params: 0 (0.00 Byte)\n",
      "__________________________________________________________________________________________________\n"
     ]
    }
   ],
   "source": [
    "siamese_model.summary()"
   ]
  },
  {
   "cell_type": "code",
   "execution_count": 113,
   "id": "1338c9ae-624c-4822-b11c-10ce6a22e10b",
   "metadata": {},
   "outputs": [],
   "source": [
    "binary_cross_loss = tf.losses.BinaryCrossentropy()"
   ]
  },
  {
   "cell_type": "code",
   "execution_count": 114,
   "id": "4d135230-73df-421a-beea-98991e0470ad",
   "metadata": {},
   "outputs": [],
   "source": [
    "opt = tf.keras.optimizers.Adam(1e-4) # 0.0001"
   ]
  },
  {
   "cell_type": "code",
   "execution_count": 115,
   "id": "1c379d55-ad87-4b36-9b56-d07ac692ac69",
   "metadata": {},
   "outputs": [],
   "source": [
    "checkpoint_dir = './training_checkpoints'\n",
    "checkpoint_prefix = os.path.join(checkpoint_dir, 'ckpt')\n",
    "checkpoint = tf.train.Checkpoint(opt=opt, siamese_model=siamese_model)"
   ]
  },
  {
   "cell_type": "code",
   "execution_count": 116,
   "id": "e64e76d8-e200-4530-a4f5-4ada53249e11",
   "metadata": {},
   "outputs": [],
   "source": [
    "test_batch = train_data.as_numpy_iterator()"
   ]
  },
  {
   "cell_type": "code",
   "execution_count": 117,
   "id": "364d3161-d1e1-4cd1-bcf3-f7192ee6d62b",
   "metadata": {},
   "outputs": [],
   "source": [
    "batch_1 = test_batch.next()"
   ]
  },
  {
   "cell_type": "code",
   "execution_count": 118,
   "id": "015a1f70-6386-4f9b-b4e4-21fbc7ce653a",
   "metadata": {},
   "outputs": [],
   "source": [
    "X = batch_1[:2]"
   ]
  },
  {
   "cell_type": "code",
   "execution_count": 119,
   "id": "eed623b0-932a-48f2-a3f7-c1f07c694adc",
   "metadata": {},
   "outputs": [],
   "source": [
    "y = batch_1[2]"
   ]
  },
  {
   "cell_type": "code",
   "execution_count": 120,
   "id": "4be3497f-b6ab-48d7-9e62-a1785e4bc254",
   "metadata": {},
   "outputs": [
    {
     "data": {
      "text/plain": [
       "array([1., 0., 1., 1., 1., 0., 1., 0., 1., 1., 1., 1., 0., 0., 0., 0.],\n",
       "      dtype=float32)"
      ]
     },
     "execution_count": 120,
     "metadata": {},
     "output_type": "execute_result"
    }
   ],
   "source": [
    "y"
   ]
  },
  {
   "cell_type": "code",
   "execution_count": 121,
   "id": "ec2dacf4-50da-410b-8240-466f9822cab6",
   "metadata": {},
   "outputs": [
    {
     "data": {
      "text/plain": [
       "\u001b[1;31mInit signature:\u001b[0m\n",
       "\u001b[0mtf\u001b[0m\u001b[1;33m.\u001b[0m\u001b[0mlosses\u001b[0m\u001b[1;33m.\u001b[0m\u001b[0mBinaryCrossentropy\u001b[0m\u001b[1;33m(\u001b[0m\u001b[1;33m\n",
       "\u001b[0m    \u001b[0mfrom_logits\u001b[0m\u001b[1;33m=\u001b[0m\u001b[1;32mFalse\u001b[0m\u001b[1;33m,\u001b[0m\u001b[1;33m\n",
       "\u001b[0m    \u001b[0mlabel_smoothing\u001b[0m\u001b[1;33m=\u001b[0m\u001b[1;36m0.0\u001b[0m\u001b[1;33m,\u001b[0m\u001b[1;33m\n",
       "\u001b[0m    \u001b[0maxis\u001b[0m\u001b[1;33m=\u001b[0m\u001b[1;33m-\u001b[0m\u001b[1;36m1\u001b[0m\u001b[1;33m,\u001b[0m\u001b[1;33m\n",
       "\u001b[0m    \u001b[0mreduction\u001b[0m\u001b[1;33m=\u001b[0m\u001b[1;34m'auto'\u001b[0m\u001b[1;33m,\u001b[0m\u001b[1;33m\n",
       "\u001b[0m    \u001b[0mname\u001b[0m\u001b[1;33m=\u001b[0m\u001b[1;34m'binary_crossentropy'\u001b[0m\u001b[1;33m,\u001b[0m\u001b[1;33m\n",
       "\u001b[0m\u001b[1;33m)\u001b[0m\u001b[1;33m\u001b[0m\u001b[1;33m\u001b[0m\u001b[0m\n",
       "\u001b[1;31mSource:\u001b[0m        \n",
       "\u001b[1;33m@\u001b[0m\u001b[0mkeras_export\u001b[0m\u001b[1;33m(\u001b[0m\u001b[1;34m\"keras.losses.BinaryCrossentropy\"\u001b[0m\u001b[1;33m)\u001b[0m\u001b[1;33m\n",
       "\u001b[0m\u001b[1;32mclass\u001b[0m \u001b[0mBinaryCrossentropy\u001b[0m\u001b[1;33m(\u001b[0m\u001b[0mLossFunctionWrapper\u001b[0m\u001b[1;33m)\u001b[0m\u001b[1;33m:\u001b[0m\u001b[1;33m\n",
       "\u001b[0m    \u001b[1;34m\"\"\"Computes the cross-entropy loss between true labels and predicted labels.\n",
       "\n",
       "    Use this cross-entropy loss for binary (0 or 1) classification applications.\n",
       "    The loss function requires the following inputs:\n",
       "\n",
       "    - `y_true` (true label): This is either 0 or 1.\n",
       "    - `y_pred` (predicted value): This is the model's prediction, i.e, a single\n",
       "      floating-point value which either represents a\n",
       "      [logit](https://en.wikipedia.org/wiki/Logit), (i.e, value in [-inf, inf]\n",
       "      when `from_logits=True`) or a probability (i.e, value in [0., 1.] when\n",
       "      `from_logits=False`).\n",
       "\n",
       "    **Recommended Usage:** (set `from_logits=True`)\n",
       "\n",
       "    With `tf.keras` API:\n",
       "\n",
       "    ```python\n",
       "    model.compile(\n",
       "      loss=tf.keras.losses.BinaryCrossentropy(from_logits=True),\n",
       "      ....\n",
       "    )\n",
       "    ```\n",
       "\n",
       "    As a standalone function:\n",
       "\n",
       "    >>> # Example 1: (batch_size = 1, number of samples = 4)\n",
       "    >>> y_true = [0, 1, 0, 0]\n",
       "    >>> y_pred = [-18.6, 0.51, 2.94, -12.8]\n",
       "    >>> bce = tf.keras.losses.BinaryCrossentropy(from_logits=True)\n",
       "    >>> bce(y_true, y_pred).numpy()\n",
       "    0.865\n",
       "\n",
       "    >>> # Example 2: (batch_size = 2, number of samples = 4)\n",
       "    >>> y_true = [[0, 1], [0, 0]]\n",
       "    >>> y_pred = [[-18.6, 0.51], [2.94, -12.8]]\n",
       "    >>> # Using default 'auto'/'sum_over_batch_size' reduction type.\n",
       "    >>> bce = tf.keras.losses.BinaryCrossentropy(from_logits=True)\n",
       "    >>> bce(y_true, y_pred).numpy()\n",
       "    0.865\n",
       "    >>> # Using 'sample_weight' attribute\n",
       "    >>> bce(y_true, y_pred, sample_weight=[0.8, 0.2]).numpy()\n",
       "    0.243\n",
       "    >>> # Using 'sum' reduction` type.\n",
       "    >>> bce = tf.keras.losses.BinaryCrossentropy(from_logits=True,\n",
       "    ...     reduction=tf.keras.losses.Reduction.SUM)\n",
       "    >>> bce(y_true, y_pred).numpy()\n",
       "    1.730\n",
       "    >>> # Using 'none' reduction type.\n",
       "    >>> bce = tf.keras.losses.BinaryCrossentropy(from_logits=True,\n",
       "    ...     reduction=tf.keras.losses.Reduction.NONE)\n",
       "    >>> bce(y_true, y_pred).numpy()\n",
       "    array([0.235, 1.496], dtype=float32)\n",
       "\n",
       "    **Default Usage:** (set `from_logits=False`)\n",
       "\n",
       "    >>> # Make the following updates to the above \"Recommended Usage\" section\n",
       "    >>> # 1. Set `from_logits=False`\n",
       "    >>> tf.keras.losses.BinaryCrossentropy() # OR ...('from_logits=False')\n",
       "    >>> # 2. Update `y_pred` to use probabilities instead of logits\n",
       "    >>> y_pred = [0.6, 0.3, 0.2, 0.8] # OR [[0.6, 0.3], [0.2, 0.8]]\n",
       "    \"\"\"\u001b[0m\u001b[1;33m\n",
       "\u001b[0m\u001b[1;33m\n",
       "\u001b[0m    \u001b[1;32mdef\u001b[0m \u001b[0m__init__\u001b[0m\u001b[1;33m(\u001b[0m\u001b[1;33m\n",
       "\u001b[0m        \u001b[0mself\u001b[0m\u001b[1;33m,\u001b[0m\u001b[1;33m\n",
       "\u001b[0m        \u001b[0mfrom_logits\u001b[0m\u001b[1;33m=\u001b[0m\u001b[1;32mFalse\u001b[0m\u001b[1;33m,\u001b[0m\u001b[1;33m\n",
       "\u001b[0m        \u001b[0mlabel_smoothing\u001b[0m\u001b[1;33m=\u001b[0m\u001b[1;36m0.0\u001b[0m\u001b[1;33m,\u001b[0m\u001b[1;33m\n",
       "\u001b[0m        \u001b[0maxis\u001b[0m\u001b[1;33m=\u001b[0m\u001b[1;33m-\u001b[0m\u001b[1;36m1\u001b[0m\u001b[1;33m,\u001b[0m\u001b[1;33m\n",
       "\u001b[0m        \u001b[0mreduction\u001b[0m\u001b[1;33m=\u001b[0m\u001b[0mlosses_utils\u001b[0m\u001b[1;33m.\u001b[0m\u001b[0mReductionV2\u001b[0m\u001b[1;33m.\u001b[0m\u001b[0mAUTO\u001b[0m\u001b[1;33m,\u001b[0m\u001b[1;33m\n",
       "\u001b[0m        \u001b[0mname\u001b[0m\u001b[1;33m=\u001b[0m\u001b[1;34m\"binary_crossentropy\"\u001b[0m\u001b[1;33m,\u001b[0m\u001b[1;33m\n",
       "\u001b[0m    \u001b[1;33m)\u001b[0m\u001b[1;33m:\u001b[0m\u001b[1;33m\n",
       "\u001b[0m        \u001b[1;34m\"\"\"Initializes `BinaryCrossentropy` instance.\n",
       "\n",
       "        Args:\n",
       "          from_logits: Whether to interpret `y_pred` as a tensor of\n",
       "            [logit](https://en.wikipedia.org/wiki/Logit) values. By default, we\n",
       "            assume that `y_pred` contains probabilities (i.e., values in [0,\n",
       "            1]).\n",
       "          label_smoothing: Float in [0, 1]. When 0, no smoothing occurs. When >\n",
       "            0, we compute the loss between the predicted labels and a smoothed\n",
       "            version of the true labels, where the smoothing squeezes the labels\n",
       "            towards 0.5.  Larger values of `label_smoothing` correspond to\n",
       "            heavier smoothing.\n",
       "          axis: The axis along which to compute crossentropy (the features\n",
       "            axis).  Defaults to -1.\n",
       "          reduction: Type of `tf.keras.losses.Reduction` to apply to\n",
       "            loss. Default value is `AUTO`. `AUTO` indicates that the reduction\n",
       "            option will be determined by the usage context. For almost all cases\n",
       "            this defaults to `SUM_OVER_BATCH_SIZE`. When used under a\n",
       "            `tf.distribute.Strategy`, except via `Model.compile()` and\n",
       "            `Model.fit()`, using `AUTO` or `SUM_OVER_BATCH_SIZE`\n",
       "            will raise an error. Please see this custom training [tutorial](\n",
       "            https://www.tensorflow.org/tutorials/distribute/custom_training)\n",
       "            for more details.\n",
       "          name: Name for the op. Defaults to 'binary_crossentropy'.\n",
       "        \"\"\"\u001b[0m\u001b[1;33m\n",
       "\u001b[0m        \u001b[0msuper\u001b[0m\u001b[1;33m(\u001b[0m\u001b[1;33m)\u001b[0m\u001b[1;33m.\u001b[0m\u001b[0m__init__\u001b[0m\u001b[1;33m(\u001b[0m\u001b[1;33m\n",
       "\u001b[0m            \u001b[0mbinary_crossentropy\u001b[0m\u001b[1;33m,\u001b[0m\u001b[1;33m\n",
       "\u001b[0m            \u001b[0mname\u001b[0m\u001b[1;33m=\u001b[0m\u001b[0mname\u001b[0m\u001b[1;33m,\u001b[0m\u001b[1;33m\n",
       "\u001b[0m            \u001b[0mreduction\u001b[0m\u001b[1;33m=\u001b[0m\u001b[0mreduction\u001b[0m\u001b[1;33m,\u001b[0m\u001b[1;33m\n",
       "\u001b[0m            \u001b[0mfrom_logits\u001b[0m\u001b[1;33m=\u001b[0m\u001b[0mfrom_logits\u001b[0m\u001b[1;33m,\u001b[0m\u001b[1;33m\n",
       "\u001b[0m            \u001b[0mlabel_smoothing\u001b[0m\u001b[1;33m=\u001b[0m\u001b[0mlabel_smoothing\u001b[0m\u001b[1;33m,\u001b[0m\u001b[1;33m\n",
       "\u001b[0m            \u001b[0maxis\u001b[0m\u001b[1;33m=\u001b[0m\u001b[0maxis\u001b[0m\u001b[1;33m,\u001b[0m\u001b[1;33m\n",
       "\u001b[0m        \u001b[1;33m)\u001b[0m\u001b[1;33m\n",
       "\u001b[0m        \u001b[0mself\u001b[0m\u001b[1;33m.\u001b[0m\u001b[0mfrom_logits\u001b[0m \u001b[1;33m=\u001b[0m \u001b[0mfrom_logits\u001b[0m\u001b[1;33m\u001b[0m\u001b[1;33m\u001b[0m\u001b[0m\n",
       "\u001b[1;31mFile:\u001b[0m           c:\\users\\dhruv\\onedrive\\desktop\\face\\face\\lib\\site-packages\\keras\\src\\losses.py\n",
       "\u001b[1;31mType:\u001b[0m           type\n",
       "\u001b[1;31mSubclasses:\u001b[0m     "
      ]
     },
     "metadata": {},
     "output_type": "display_data"
    }
   ],
   "source": [
    "tf.losses.BinaryCrossentropy??"
   ]
  },
  {
   "cell_type": "code",
   "execution_count": 122,
   "id": "cba3cd16-53c9-4cbb-9502-c7c0f8baf2d3",
   "metadata": {},
   "outputs": [],
   "source": [
    "@tf.function\n",
    "def train_step(batch):\n",
    "    \n",
    "    # Record all of our operations \n",
    "    with tf.GradientTape() as tape:     \n",
    "        # Get anchor and positive/negative image\n",
    "        X = batch[:2]\n",
    "        # Get label\n",
    "        y = batch[2]\n",
    "        \n",
    "        # Forward pass\n",
    "        yhat = siamese_model(X, training=True)\n",
    "        # Calculate loss\n",
    "        loss = binary_cross_loss(y, yhat)\n",
    "    print(loss)\n",
    "        \n",
    "    # Calculate gradients\n",
    "    grad = tape.gradient(loss, siamese_model.trainable_variables)\n",
    "    \n",
    "    # Calculate updated weights and apply to siamese model\n",
    "    opt.apply_gradients(zip(grad, siamese_model.trainable_variables))\n",
    "        \n",
    "    # Return loss\n",
    "    return loss"
   ]
  },
  {
   "cell_type": "code",
   "execution_count": 123,
   "id": "dbb228dc-23c5-4f27-b915-5e7137594a56",
   "metadata": {},
   "outputs": [],
   "source": [
    "# Import metric calculations\n",
    "from tensorflow.keras.metrics import Precision, Recall"
   ]
  },
  {
   "cell_type": "code",
   "execution_count": 124,
   "id": "1712999b-542e-421e-bf36-d7da21983a5f",
   "metadata": {},
   "outputs": [],
   "source": [
    "def train(data, EPOCHS):\n",
    "    # Loop through epochs\n",
    "    for epoch in range(1, EPOCHS+1):\n",
    "        print('\\n Epoch {}/{}'.format(epoch, EPOCHS))\n",
    "        progbar = tf.keras.utils.Progbar(len(data))\n",
    "        \n",
    "        # Creating a metric object \n",
    "        r = Recall()\n",
    "        p = Precision()\n",
    "        \n",
    "        # Loop through each batch\n",
    "        for idx, batch in enumerate(data):\n",
    "            # Run train step here\n",
    "            loss = train_step(batch)\n",
    "            yhat = siamese_model.predict(batch[:2])\n",
    "            r.update_state(batch[2], yhat)\n",
    "            p.update_state(batch[2], yhat) \n",
    "            progbar.update(idx+1)\n",
    "        print(loss.numpy(), r.result().numpy(), p.result().numpy())\n",
    "        \n",
    "        # Save checkpoints\n",
    "        if epoch % 10 == 0: \n",
    "            checkpoint.save(file_prefix=checkpoint_prefix)"
   ]
  },
  {
   "cell_type": "code",
   "execution_count": 125,
   "id": "0e01cde5-08a9-4cf2-af34-8e6c7d2f7327",
   "metadata": {},
   "outputs": [],
   "source": [
    "EPOCHS = 50"
   ]
  },
  {
   "cell_type": "code",
   "execution_count": 126,
   "id": "592fbcc5-07d9-4742-87c7-3b943b6d184e",
   "metadata": {},
   "outputs": [
    {
     "name": "stdout",
     "output_type": "stream",
     "text": [
      "\n",
      " Epoch 1/50\n",
      "Tensor(\"binary_crossentropy/weighted_loss/value:0\", shape=(), dtype=float32)\n",
      "Tensor(\"binary_crossentropy/weighted_loss/value:0\", shape=(), dtype=float32)\n",
      "1/1 [==============================] - 3s 3s/step\n",
      "1/1 [==============================] - 3s 3s/step\n",
      "1/1 [==============================] - 2s 2s/step\n",
      "1/1 [==============================] - 3s 3s/step\n",
      "1/1 [==============================] - 2s 2s/step\n",
      "1/1 [==============================] - 2s 2s/step\n",
      "1/1 [==============================] - 2s 2s/step\n",
      "1/1 [==============================] - 2s 2s/step\n",
      "8/9 [=========================>....] - ETA: 27sTensor(\"binary_crossentropy/weighted_loss/value:0\", shape=(), dtype=float32)\n",
      "1/1 [==============================] - 1s 1s/step\n",
      "9/9 [==============================] - 244s 27s/step\n",
      "0.47520503 0.21917808 0.9411765\n",
      "\n",
      " Epoch 2/50\n",
      "1/1 [==============================] - 2s 2s/step\n",
      "1/1 [==============================] - 2s 2s/step\n",
      "1/1 [==============================] - 2s 2s/step\n",
      "1/1 [==============================] - 2s 2s/step\n",
      "1/1 [==============================] - 2s 2s/step\n",
      "1/1 [==============================] - 2s 2s/step\n",
      "1/1 [==============================] - 2s 2s/step\n",
      "1/1 [==============================] - 2s 2s/step\n",
      "1/1 [==============================] - 1s 1s/step\n",
      "9/9 [==============================] - 246s 28s/step\n",
      "0.38412094 0.44927537 1.0\n",
      "\n",
      " Epoch 3/50\n",
      "1/1 [==============================] - 3s 3s/step\n",
      "1/1 [==============================] - 2s 2s/step\n",
      "1/1 [==============================] - 2s 2s/step\n",
      "1/1 [==============================] - 2s 2s/step\n",
      "1/1 [==============================] - 2s 2s/step\n",
      "1/1 [==============================] - 3s 3s/step\n",
      "1/1 [==============================] - 2s 2s/step\n",
      "1/1 [==============================] - 2s 2s/step\n",
      "1/1 [==============================] - 1s 1s/step\n",
      "9/9 [==============================] - 240s 26s/step\n",
      "0.3711239 0.7826087 0.96428573\n",
      "\n",
      " Epoch 4/50\n",
      "1/1 [==============================] - 2s 2s/step\n",
      "1/1 [==============================] - 2s 2s/step\n",
      "1/1 [==============================] - 2s 2s/step\n",
      "1/1 [==============================] - 2s 2s/step\n",
      "1/1 [==============================] - 2s 2s/step\n",
      "1/1 [==============================] - 2s 2s/step\n",
      "1/1 [==============================] - 2s 2s/step\n",
      "1/1 [==============================] - 2s 2s/step\n",
      "1/1 [==============================] - 2s 2s/step\n",
      "9/9 [==============================] - 228s 25s/step\n",
      "0.20126301 0.9076923 0.98333335\n",
      "\n",
      " Epoch 5/50\n",
      "1/1 [==============================] - 2s 2s/step\n",
      "1/1 [==============================] - 2s 2s/step\n",
      "1/1 [==============================] - 2s 2s/step\n",
      "1/1 [==============================] - 2s 2s/step\n",
      "1/1 [==============================] - 2s 2s/step\n",
      "1/1 [==============================] - 2s 2s/step\n",
      "1/1 [==============================] - 2s 2s/step\n",
      "1/1 [==============================] - 3s 3s/step\n",
      "1/1 [==============================] - 2s 2s/step\n",
      "9/9 [==============================] - 224s 25s/step\n",
      "0.06589028 0.983871 1.0\n",
      "\n",
      " Epoch 6/50\n",
      "1/1 [==============================] - 2s 2s/step\n",
      "1/1 [==============================] - 2s 2s/step\n",
      "1/1 [==============================] - 2s 2s/step\n",
      "1/1 [==============================] - 2s 2s/step\n",
      "1/1 [==============================] - 2s 2s/step\n",
      "1/1 [==============================] - 2s 2s/step\n",
      "1/1 [==============================] - 2s 2s/step\n",
      "1/1 [==============================] - 3s 3s/step\n",
      "1/1 [==============================] - 2s 2s/step\n",
      "9/9 [==============================] - 253s 28s/step\n",
      "0.036626212 0.9714286 1.0\n",
      "\n",
      " Epoch 7/50\n",
      "1/1 [==============================] - 2s 2s/step\n",
      "1/1 [==============================] - 2s 2s/step\n",
      "1/1 [==============================] - 2s 2s/step\n",
      "1/1 [==============================] - 2s 2s/step\n",
      "1/1 [==============================] - 3s 3s/step\n",
      "1/1 [==============================] - 3s 3s/step\n",
      "1/1 [==============================] - 3s 3s/step\n",
      "1/1 [==============================] - 2s 2s/step\n",
      "1/1 [==============================] - 2s 2s/step\n",
      "9/9 [==============================] - 262s 29s/step\n",
      "0.07159908 1.0 1.0\n",
      "\n",
      " Epoch 8/50\n",
      "1/1 [==============================] - 2s 2s/step\n",
      "1/1 [==============================] - 2s 2s/step\n",
      "1/1 [==============================] - 2s 2s/step\n",
      "1/1 [==============================] - 2s 2s/step\n",
      "1/1 [==============================] - 2s 2s/step\n",
      "1/1 [==============================] - 2s 2s/step\n",
      "1/1 [==============================] - 2s 2s/step\n",
      "1/1 [==============================] - 3s 3s/step\n",
      "1/1 [==============================] - 2s 2s/step\n",
      "9/9 [==============================] - 255s 28s/step\n",
      "0.0039496385 1.0 1.0\n",
      "\n",
      " Epoch 9/50\n",
      "1/1 [==============================] - 2s 2s/step\n",
      "1/1 [==============================] - 2s 2s/step\n",
      "1/1 [==============================] - 2s 2s/step\n",
      "1/1 [==============================] - 2s 2s/step\n",
      "1/1 [==============================] - 2s 2s/step\n",
      "1/1 [==============================] - 2s 2s/step\n",
      "1/1 [==============================] - 2s 2s/step\n",
      "1/1 [==============================] - 2s 2s/step\n",
      "1/1 [==============================] - 2s 2s/step\n",
      "9/9 [==============================] - 248s 28s/step\n",
      "0.060466867 1.0 1.0\n",
      "\n",
      " Epoch 10/50\n",
      "1/1 [==============================] - 2s 2s/step\n",
      "1/1 [==============================] - 2s 2s/step\n",
      "1/1 [==============================] - 3s 3s/step\n",
      "1/1 [==============================] - 2s 2s/step\n",
      "1/1 [==============================] - 2s 2s/step\n",
      "1/1 [==============================] - 2s 2s/step\n",
      "1/1 [==============================] - 2s 2s/step\n",
      "1/1 [==============================] - 2s 2s/step\n",
      "1/1 [==============================] - 2s 2s/step\n",
      "9/9 [==============================] - 247s 27s/step\n",
      "0.010597702 1.0 1.0\n",
      "\n",
      " Epoch 11/50\n",
      "1/1 [==============================] - 2s 2s/step\n",
      "1/1 [==============================] - 2s 2s/step\n",
      "1/1 [==============================] - 2s 2s/step\n",
      "1/1 [==============================] - 2s 2s/step\n",
      "1/1 [==============================] - 2s 2s/step\n",
      "1/1 [==============================] - 2s 2s/step\n",
      "1/1 [==============================] - 3s 3s/step\n",
      "1/1 [==============================] - 2s 2s/step\n",
      "1/1 [==============================] - 2s 2s/step\n",
      "9/9 [==============================] - 244s 27s/step\n",
      "0.01108005 1.0 1.0\n",
      "\n",
      " Epoch 12/50\n",
      "1/1 [==============================] - 2s 2s/step\n",
      "1/1 [==============================] - 2s 2s/step\n",
      "1/1 [==============================] - 2s 2s/step\n",
      "1/1 [==============================] - 3s 3s/step\n",
      "1/1 [==============================] - 2s 2s/step\n",
      "1/1 [==============================] - 2s 2s/step\n",
      "1/1 [==============================] - 2s 2s/step\n",
      "1/1 [==============================] - 2s 2s/step\n",
      "1/1 [==============================] - 2s 2s/step\n",
      "9/9 [==============================] - 242s 27s/step\n",
      "0.016868504 1.0 1.0\n",
      "\n",
      " Epoch 13/50\n",
      "1/1 [==============================] - 2s 2s/step\n",
      "1/1 [==============================] - 2s 2s/step\n",
      "1/1 [==============================] - 2s 2s/step\n",
      "1/1 [==============================] - 2s 2s/step\n",
      "1/1 [==============================] - 2s 2s/step\n",
      "1/1 [==============================] - 2s 2s/step\n",
      "1/1 [==============================] - 2s 2s/step\n",
      "1/1 [==============================] - 2s 2s/step\n",
      "1/1 [==============================] - 2s 2s/step\n",
      "9/9 [==============================] - 248s 28s/step\n",
      "0.012544648 1.0 1.0\n",
      "\n",
      " Epoch 14/50\n",
      "1/1 [==============================] - 2s 2s/step\n",
      "1/1 [==============================] - 2s 2s/step\n",
      "1/1 [==============================] - 2s 2s/step\n",
      "1/1 [==============================] - 2s 2s/step\n",
      "1/1 [==============================] - 2s 2s/step\n",
      "1/1 [==============================] - 2s 2s/step\n",
      "1/1 [==============================] - 2s 2s/step\n",
      "1/1 [==============================] - 2s 2s/step\n",
      "1/1 [==============================] - 2s 2s/step\n",
      "9/9 [==============================] - 237s 26s/step\n",
      "0.001784151 1.0 1.0\n",
      "\n",
      " Epoch 15/50\n",
      "1/1 [==============================] - 2s 2s/step\n",
      "1/1 [==============================] - 2s 2s/step\n",
      "1/1 [==============================] - 2s 2s/step\n",
      "1/1 [==============================] - 2s 2s/step\n",
      "1/1 [==============================] - 2s 2s/step\n",
      "1/1 [==============================] - 2s 2s/step\n",
      "1/1 [==============================] - 2s 2s/step\n",
      "1/1 [==============================] - 2s 2s/step\n",
      "1/1 [==============================] - 2s 2s/step\n",
      "9/9 [==============================] - 239s 26s/step\n",
      "0.0035560213 1.0 1.0\n",
      "\n",
      " Epoch 16/50\n",
      "1/1 [==============================] - 2s 2s/step\n",
      "1/1 [==============================] - 2s 2s/step\n",
      "1/1 [==============================] - 2s 2s/step\n",
      "1/1 [==============================] - 2s 2s/step\n",
      "1/1 [==============================] - 2s 2s/step\n",
      "1/1 [==============================] - 2s 2s/step\n",
      "1/1 [==============================] - 2s 2s/step\n",
      "1/1 [==============================] - 2s 2s/step\n",
      "1/1 [==============================] - 2s 2s/step\n",
      "9/9 [==============================] - 242s 27s/step\n",
      "0.00036259214 1.0 1.0\n",
      "\n",
      " Epoch 17/50\n",
      "1/1 [==============================] - 2s 2s/step\n",
      "1/1 [==============================] - 2s 2s/step\n",
      "1/1 [==============================] - 2s 2s/step\n",
      "1/1 [==============================] - 2s 2s/step\n",
      "1/1 [==============================] - 2s 2s/step\n",
      "1/1 [==============================] - 2s 2s/step\n",
      "1/1 [==============================] - 2s 2s/step\n",
      "1/1 [==============================] - 2s 2s/step\n",
      "1/1 [==============================] - 1s 1s/step\n",
      "9/9 [==============================] - 234s 26s/step\n",
      "0.00012894055 1.0 1.0\n",
      "\n",
      " Epoch 18/50\n",
      "1/1 [==============================] - 2s 2s/step\n",
      "1/1 [==============================] - 2s 2s/step\n",
      "1/1 [==============================] - 2s 2s/step\n",
      "1/1 [==============================] - 2s 2s/step\n",
      "1/1 [==============================] - 2s 2s/step\n",
      "1/1 [==============================] - 2s 2s/step\n",
      "1/1 [==============================] - 2s 2s/step\n",
      "1/1 [==============================] - 2s 2s/step\n",
      "1/1 [==============================] - 2s 2s/step\n",
      "9/9 [==============================] - 212s 23s/step\n",
      "0.0013936618 1.0 1.0\n",
      "\n",
      " Epoch 19/50\n",
      "1/1 [==============================] - 2s 2s/step\n",
      "1/1 [==============================] - 2s 2s/step\n",
      "1/1 [==============================] - 2s 2s/step\n",
      "1/1 [==============================] - 2s 2s/step\n",
      "1/1 [==============================] - 2s 2s/step\n",
      "1/1 [==============================] - 2s 2s/step\n",
      "1/1 [==============================] - 2s 2s/step\n",
      "1/1 [==============================] - 2s 2s/step\n",
      "1/1 [==============================] - 1s 1s/step\n",
      "9/9 [==============================] - 218s 24s/step\n",
      "0.0005294801 1.0 1.0\n",
      "\n",
      " Epoch 20/50\n",
      "1/1 [==============================] - 2s 2s/step\n",
      "1/1 [==============================] - 2s 2s/step\n",
      "1/1 [==============================] - 2s 2s/step\n",
      "1/1 [==============================] - 2s 2s/step\n",
      "1/1 [==============================] - 2s 2s/step\n",
      "1/1 [==============================] - 2s 2s/step\n",
      "1/1 [==============================] - 2s 2s/step\n",
      "1/1 [==============================] - 2s 2s/step\n",
      "1/1 [==============================] - 1s 1s/step\n",
      "9/9 [==============================] - 222s 25s/step\n",
      "0.00022324613 1.0 1.0\n",
      "\n",
      " Epoch 21/50\n",
      "1/1 [==============================] - 2s 2s/step\n",
      "1/1 [==============================] - 2s 2s/step\n",
      "1/1 [==============================] - 2s 2s/step\n",
      "1/1 [==============================] - 2s 2s/step\n",
      "1/1 [==============================] - 2s 2s/step\n",
      "1/1 [==============================] - 3s 3s/step\n",
      "1/1 [==============================] - 2s 2s/step\n",
      "1/1 [==============================] - 2s 2s/step\n",
      "1/1 [==============================] - 1s 1s/step\n",
      "9/9 [==============================] - 236s 26s/step\n",
      "0.0004126289 1.0 1.0\n",
      "\n",
      " Epoch 22/50\n",
      "1/1 [==============================] - 2s 2s/step\n",
      "1/1 [==============================] - 3s 3s/step\n",
      "1/1 [==============================] - 2s 2s/step\n",
      "1/1 [==============================] - 2s 2s/step\n",
      "1/1 [==============================] - 2s 2s/step\n",
      "1/1 [==============================] - 2s 2s/step\n",
      "1/1 [==============================] - 2s 2s/step\n",
      "1/1 [==============================] - 2s 2s/step\n",
      "1/1 [==============================] - 1s 1s/step\n",
      "9/9 [==============================] - 234s 26s/step\n",
      "0.00045948508 1.0 1.0\n",
      "\n",
      " Epoch 23/50\n",
      "1/1 [==============================] - 2s 2s/step\n",
      "1/1 [==============================] - 2s 2s/step\n",
      "1/1 [==============================] - 2s 2s/step\n",
      "1/1 [==============================] - 2s 2s/step\n",
      "1/1 [==============================] - 2s 2s/step\n",
      "1/1 [==============================] - 2s 2s/step\n",
      "1/1 [==============================] - 2s 2s/step\n",
      "1/1 [==============================] - 2s 2s/step\n",
      "1/1 [==============================] - 1s 1s/step\n",
      "9/9 [==============================] - 233s 26s/step\n",
      "0.000375959 1.0 1.0\n",
      "\n",
      " Epoch 24/50\n",
      "1/1 [==============================] - 2s 2s/step\n",
      "1/1 [==============================] - 2s 2s/step\n",
      "1/1 [==============================] - 2s 2s/step\n",
      "1/1 [==============================] - 2s 2s/step\n",
      "1/1 [==============================] - 2s 2s/step\n",
      "1/1 [==============================] - 3s 3s/step\n",
      "1/1 [==============================] - 2s 2s/step\n",
      "1/1 [==============================] - 2s 2s/step\n",
      "1/1 [==============================] - 2s 2s/step\n",
      "9/9 [==============================] - 250s 28s/step\n",
      "0.00010703589 1.0 1.0\n",
      "\n",
      " Epoch 25/50\n",
      "1/1 [==============================] - 3s 3s/step\n",
      "1/1 [==============================] - 2s 2s/step\n",
      "1/1 [==============================] - 2s 2s/step\n",
      "1/1 [==============================] - 2s 2s/step\n",
      "1/1 [==============================] - 2s 2s/step\n",
      "1/1 [==============================] - 2s 2s/step\n",
      "1/1 [==============================] - 3s 3s/step\n",
      "1/1 [==============================] - 2s 2s/step\n",
      "1/1 [==============================] - 2s 2s/step\n",
      "9/9 [==============================] - 248s 27s/step\n",
      "0.00022549293 1.0 1.0\n",
      "\n",
      " Epoch 26/50\n",
      "1/1 [==============================] - 2s 2s/step\n",
      "1/1 [==============================] - 2s 2s/step\n",
      "1/1 [==============================] - 2s 2s/step\n",
      "1/1 [==============================] - 2s 2s/step\n",
      "1/1 [==============================] - 2s 2s/step\n",
      "1/1 [==============================] - 3s 3s/step\n",
      "1/1 [==============================] - 3s 3s/step\n",
      "1/1 [==============================] - 3s 3s/step\n",
      "1/1 [==============================] - 2s 2s/step\n",
      "9/9 [==============================] - 255s 29s/step\n",
      "0.0002681096 1.0 1.0\n",
      "\n",
      " Epoch 27/50\n",
      "1/1 [==============================] - 2s 2s/step\n",
      "1/1 [==============================] - 2s 2s/step\n",
      "1/1 [==============================] - 3s 3s/step\n",
      "1/1 [==============================] - 2s 2s/step\n",
      "1/1 [==============================] - 3s 3s/step\n",
      "1/1 [==============================] - 2s 2s/step\n",
      "1/1 [==============================] - 2s 2s/step\n",
      "1/1 [==============================] - 2s 2s/step\n",
      "1/1 [==============================] - 2s 2s/step\n",
      "9/9 [==============================] - 253s 28s/step\n",
      "0.00025086405 1.0 1.0\n",
      "\n",
      " Epoch 28/50\n",
      "1/1 [==============================] - 3s 3s/step\n",
      "1/1 [==============================] - 2s 2s/step\n",
      "1/1 [==============================] - 2s 2s/step\n",
      "1/1 [==============================] - 3s 3s/step\n",
      "1/1 [==============================] - 3s 3s/step\n",
      "1/1 [==============================] - 2s 2s/step\n",
      "1/1 [==============================] - 2s 2s/step\n",
      "1/1 [==============================] - 2s 2s/step\n",
      "1/1 [==============================] - 2s 2s/step\n",
      "9/9 [==============================] - 254s 28s/step\n",
      "0.00022922351 1.0 1.0\n",
      "\n",
      " Epoch 29/50\n",
      "1/1 [==============================] - 2s 2s/step\n",
      "1/1 [==============================] - 2s 2s/step\n",
      "1/1 [==============================] - 3s 3s/step\n",
      "1/1 [==============================] - 3s 3s/step\n",
      "1/1 [==============================] - 2s 2s/step\n",
      "1/1 [==============================] - 3s 3s/step\n",
      "1/1 [==============================] - 2s 2s/step\n",
      "1/1 [==============================] - 2s 2s/step\n",
      "1/1 [==============================] - 1s 1s/step\n",
      "9/9 [==============================] - 263s 29s/step\n",
      "0.00037514756 1.0 1.0\n",
      "\n",
      " Epoch 30/50\n",
      "1/1 [==============================] - 2s 2s/step\n",
      "1/1 [==============================] - 3s 3s/step\n",
      "1/1 [==============================] - 2s 2s/step\n",
      "1/1 [==============================] - 2s 2s/step\n",
      "1/1 [==============================] - 2s 2s/step\n",
      "1/1 [==============================] - 2s 2s/step\n",
      "1/1 [==============================] - 3s 3s/step\n",
      "1/1 [==============================] - 2s 2s/step\n",
      "1/1 [==============================] - 2s 2s/step\n",
      "9/9 [==============================] - 262s 30s/step\n",
      "0.00024873947 1.0 1.0\n",
      "\n",
      " Epoch 31/50\n",
      "1/1 [==============================] - 2s 2s/step\n",
      "1/1 [==============================] - 2s 2s/step\n",
      "1/1 [==============================] - 2s 2s/step\n",
      "1/1 [==============================] - 2s 2s/step\n",
      "1/1 [==============================] - 2s 2s/step\n",
      "1/1 [==============================] - 2s 2s/step\n",
      "1/1 [==============================] - 2s 2s/step\n",
      "1/1 [==============================] - 2s 2s/step\n",
      "1/1 [==============================] - 2s 2s/step\n",
      "9/9 [==============================] - 244s 27s/step\n",
      "0.00062000944 1.0 1.0\n",
      "\n",
      " Epoch 32/50\n",
      "1/1 [==============================] - 2s 2s/step\n",
      "1/1 [==============================] - 2s 2s/step\n",
      "1/1 [==============================] - 2s 2s/step\n",
      "1/1 [==============================] - 2s 2s/step\n",
      "1/1 [==============================] - 2s 2s/step\n",
      "1/1 [==============================] - 2s 2s/step\n",
      "1/1 [==============================] - 2s 2s/step\n",
      "1/1 [==============================] - 2s 2s/step\n",
      "1/1 [==============================] - 1s 1s/step\n",
      "9/9 [==============================] - 238s 26s/step\n",
      "0.00033265757 1.0 1.0\n",
      "\n",
      " Epoch 33/50\n",
      "1/1 [==============================] - 2s 2s/step\n",
      "1/1 [==============================] - 2s 2s/step\n",
      "1/1 [==============================] - 2s 2s/step\n",
      "1/1 [==============================] - 2s 2s/step\n",
      "1/1 [==============================] - 2s 2s/step\n",
      "1/1 [==============================] - 2s 2s/step\n",
      "1/1 [==============================] - 3s 3s/step\n",
      "1/1 [==============================] - 2s 2s/step\n",
      "1/1 [==============================] - 2s 2s/step\n",
      "9/9 [==============================] - 244s 27s/step\n",
      "8.078741e-05 1.0 1.0\n",
      "\n",
      " Epoch 34/50\n",
      "1/1 [==============================] - 2s 2s/step\n",
      "1/1 [==============================] - 3s 3s/step\n",
      "1/1 [==============================] - 3s 3s/step\n",
      "1/1 [==============================] - 2s 2s/step\n",
      "1/1 [==============================] - 2s 2s/step\n",
      "1/1 [==============================] - 2s 2s/step\n",
      "1/1 [==============================] - 3s 3s/step\n",
      "1/1 [==============================] - 2s 2s/step\n",
      "1/1 [==============================] - 2s 2s/step\n",
      "9/9 [==============================] - 260s 29s/step\n",
      "0.00013318991 1.0 1.0\n",
      "\n",
      " Epoch 35/50\n",
      "1/1 [==============================] - 2s 2s/step\n",
      "1/1 [==============================] - 3s 3s/step\n",
      "1/1 [==============================] - 2s 2s/step\n",
      "1/1 [==============================] - 3s 3s/step\n",
      "1/1 [==============================] - 3s 3s/step\n",
      "1/1 [==============================] - 2s 2s/step\n",
      "1/1 [==============================] - 2s 2s/step\n",
      "1/1 [==============================] - 2s 2s/step\n",
      "1/1 [==============================] - 2s 2s/step\n",
      "9/9 [==============================] - 252s 28s/step\n",
      "0.00015839972 1.0 1.0\n",
      "\n",
      " Epoch 36/50\n",
      "1/1 [==============================] - 2s 2s/step\n",
      "1/1 [==============================] - 3s 3s/step\n",
      "1/1 [==============================] - 2s 2s/step\n",
      "1/1 [==============================] - 2s 2s/step\n",
      "1/1 [==============================] - 2s 2s/step\n",
      "1/1 [==============================] - 2s 2s/step\n",
      "1/1 [==============================] - 2s 2s/step\n",
      "1/1 [==============================] - 2s 2s/step\n",
      "1/1 [==============================] - 1s 1s/step\n",
      "9/9 [==============================] - 247s 27s/step\n",
      "0.0001645696 1.0 1.0\n",
      "\n",
      " Epoch 37/50\n",
      "1/1 [==============================] - 3s 3s/step\n",
      "1/1 [==============================] - 2s 2s/step\n",
      "1/1 [==============================] - 2s 2s/step\n",
      "1/1 [==============================] - 2s 2s/step\n",
      "1/1 [==============================] - 3s 3s/step\n",
      "1/1 [==============================] - 3s 3s/step\n",
      "1/1 [==============================] - 2s 2s/step\n",
      "1/1 [==============================] - 3s 3s/step\n",
      "1/1 [==============================] - 2s 2s/step\n",
      "9/9 [==============================] - 255s 28s/step\n",
      "0.0004603417 1.0 1.0\n",
      "\n",
      " Epoch 38/50\n",
      "1/1 [==============================] - 4s 4s/step\n",
      "1/1 [==============================] - 3s 3s/step\n",
      "1/1 [==============================] - 3s 3s/step\n",
      "1/1 [==============================] - 3s 3s/step\n",
      "1/1 [==============================] - 2s 2s/step\n",
      "1/1 [==============================] - 2s 2s/step\n",
      "1/1 [==============================] - 2s 2s/step\n",
      "1/1 [==============================] - 2s 2s/step\n",
      "1/1 [==============================] - 2s 2s/step\n",
      "9/9 [==============================] - 298s 33s/step\n",
      "0.00016107124 1.0 1.0\n",
      "\n",
      " Epoch 39/50\n",
      "1/1 [==============================] - 2s 2s/step\n",
      "1/1 [==============================] - 2s 2s/step\n",
      "1/1 [==============================] - 2s 2s/step\n",
      "1/1 [==============================] - 2s 2s/step\n",
      "1/1 [==============================] - 2s 2s/step\n",
      "1/1 [==============================] - 2s 2s/step\n",
      "1/1 [==============================] - 2s 2s/step\n",
      "1/1 [==============================] - 2s 2s/step\n",
      "1/1 [==============================] - 2s 2s/step\n",
      "9/9 [==============================] - 232s 25s/step\n",
      "0.00017734188 1.0 1.0\n",
      "\n",
      " Epoch 40/50\n",
      "1/1 [==============================] - 3s 3s/step\n",
      "1/1 [==============================] - 3s 3s/step\n",
      "1/1 [==============================] - 2s 2s/step\n",
      "1/1 [==============================] - 3s 3s/step\n",
      "1/1 [==============================] - 2s 2s/step\n",
      "1/1 [==============================] - 3s 3s/step\n",
      "1/1 [==============================] - 2s 2s/step\n",
      "1/1 [==============================] - 3s 3s/step\n",
      "1/1 [==============================] - 2s 2s/step\n",
      "9/9 [==============================] - 283s 32s/step\n",
      "6.487709e-05 1.0 1.0\n",
      "\n",
      " Epoch 41/50\n",
      "1/1 [==============================] - 3s 3s/step\n",
      "1/1 [==============================] - 3s 3s/step\n",
      "1/1 [==============================] - 2s 2s/step\n",
      "1/1 [==============================] - 2s 2s/step\n",
      "1/1 [==============================] - 2s 2s/step\n",
      "1/1 [==============================] - 3s 3s/step\n",
      "1/1 [==============================] - 3s 3s/step\n",
      "1/1 [==============================] - 2s 2s/step\n",
      "1/1 [==============================] - 2s 2s/step\n",
      "9/9 [==============================] - 276s 30s/step\n",
      "2.517964e-05 1.0 1.0\n",
      "\n",
      " Epoch 42/50\n",
      "1/1 [==============================] - 3s 3s/step\n",
      "1/1 [==============================] - 2s 2s/step\n",
      "1/1 [==============================] - 3s 3s/step\n",
      "1/1 [==============================] - 3s 3s/step\n",
      "1/1 [==============================] - 3s 3s/step\n",
      "1/1 [==============================] - 3s 3s/step\n",
      "1/1 [==============================] - 3s 3s/step\n",
      "1/1 [==============================] - 2s 2s/step\n",
      "1/1 [==============================] - 2s 2s/step\n",
      "9/9 [==============================] - 290s 32s/step\n",
      "8.6343905e-05 1.0 1.0\n",
      "\n",
      " Epoch 43/50\n",
      "1/1 [==============================] - 3s 3s/step\n",
      "1/1 [==============================] - 3s 3s/step\n",
      "1/1 [==============================] - 2s 2s/step\n",
      "1/1 [==============================] - 3s 3s/step\n",
      "1/1 [==============================] - 3s 3s/step\n",
      "1/1 [==============================] - 3s 3s/step\n",
      "1/1 [==============================] - 3s 3s/step\n",
      "1/1 [==============================] - 3s 3s/step\n",
      "1/1 [==============================] - 2s 2s/step\n",
      "9/9 [==============================] - 295s 32s/step\n",
      "5.2643416e-05 1.0 1.0\n",
      "\n",
      " Epoch 44/50\n",
      "1/1 [==============================] - 3s 3s/step\n",
      "1/1 [==============================] - 3s 3s/step\n",
      "1/1 [==============================] - 3s 3s/step\n",
      "1/1 [==============================] - 2s 2s/step\n",
      "1/1 [==============================] - 2s 2s/step\n",
      "1/1 [==============================] - 3s 3s/step\n",
      "1/1 [==============================] - 2s 2s/step\n",
      "1/1 [==============================] - 3s 3s/step\n",
      "1/1 [==============================] - 2s 2s/step\n",
      "9/9 [==============================] - 258s 29s/step\n",
      "6.407616e-06 1.0 1.0\n",
      "\n",
      " Epoch 45/50\n",
      "1/1 [==============================] - 2s 2s/step\n",
      "1/1 [==============================] - 3s 3s/step\n",
      "1/1 [==============================] - 2s 2s/step\n",
      "1/1 [==============================] - 2s 2s/step\n",
      "1/1 [==============================] - 3s 3s/step\n",
      "1/1 [==============================] - 2s 2s/step\n",
      "1/1 [==============================] - 2s 2s/step\n",
      "1/1 [==============================] - 2s 2s/step\n",
      "1/1 [==============================] - 2s 2s/step\n",
      "9/9 [==============================] - 257s 28s/step\n",
      "0.0003064358 1.0 1.0\n",
      "\n",
      " Epoch 46/50\n",
      "1/1 [==============================] - 2s 2s/step\n",
      "1/1 [==============================] - 3s 3s/step\n",
      "1/1 [==============================] - 2s 2s/step\n",
      "1/1 [==============================] - 2s 2s/step\n",
      "1/1 [==============================] - 3s 3s/step\n",
      "1/1 [==============================] - 3s 3s/step\n",
      "1/1 [==============================] - 2s 2s/step\n",
      "1/1 [==============================] - 2s 2s/step\n",
      "1/1 [==============================] - 2s 2s/step\n",
      "9/9 [==============================] - 252s 28s/step\n",
      "2.9545854e-05 1.0 1.0\n",
      "\n",
      " Epoch 47/50\n",
      "1/1 [==============================] - 2s 2s/step\n",
      "1/1 [==============================] - 2s 2s/step\n",
      "1/1 [==============================] - 2s 2s/step\n",
      "1/1 [==============================] - 3s 3s/step\n",
      "1/1 [==============================] - 3s 3s/step\n",
      "1/1 [==============================] - 2s 2s/step\n",
      "1/1 [==============================] - 2s 2s/step\n",
      "1/1 [==============================] - 2s 2s/step\n",
      "1/1 [==============================] - 2s 2s/step\n",
      "9/9 [==============================] - 251s 28s/step\n",
      "5.175085e-05 1.0 1.0\n",
      "\n",
      " Epoch 48/50\n",
      "1/1 [==============================] - 2s 2s/step\n",
      "1/1 [==============================] - 3s 3s/step\n",
      "1/1 [==============================] - 2s 2s/step\n",
      "1/1 [==============================] - 2s 2s/step\n",
      "1/1 [==============================] - 3s 3s/step\n",
      "1/1 [==============================] - 2s 2s/step\n",
      "1/1 [==============================] - 3s 3s/step\n",
      "1/1 [==============================] - 2s 2s/step\n",
      "1/1 [==============================] - 2s 2s/step\n",
      "9/9 [==============================] - 259s 29s/step\n",
      "9.273907e-05 1.0 1.0\n",
      "\n",
      " Epoch 49/50\n",
      "1/1 [==============================] - 3s 3s/step\n",
      "1/1 [==============================] - 3s 3s/step\n",
      "1/1 [==============================] - 2s 2s/step\n",
      "1/1 [==============================] - 2s 2s/step\n",
      "1/1 [==============================] - 2s 2s/step\n",
      "1/1 [==============================] - 2s 2s/step\n",
      "1/1 [==============================] - 3s 3s/step\n",
      "1/1 [==============================] - 3s 3s/step\n",
      "1/1 [==============================] - 2s 2s/step\n",
      "9/9 [==============================] - 256s 28s/step\n",
      "4.8831353e-05 1.0 1.0\n",
      "\n",
      " Epoch 50/50\n",
      "1/1 [==============================] - 3s 3s/step\n",
      "1/1 [==============================] - 2s 2s/step\n",
      "1/1 [==============================] - 2s 2s/step\n",
      "1/1 [==============================] - 2s 2s/step\n",
      "1/1 [==============================] - 2s 2s/step\n",
      "1/1 [==============================] - 3s 3s/step\n",
      "1/1 [==============================] - 3s 3s/step\n",
      "1/1 [==============================] - 2s 2s/step\n",
      "1/1 [==============================] - 2s 2s/step\n",
      "9/9 [==============================] - 255s 28s/step\n",
      "5.5161276e-05 1.0 1.0\n"
     ]
    }
   ],
   "source": [
    "train(train_data, EPOCHS)"
   ]
  },
  {
   "cell_type": "code",
   "execution_count": 127,
   "id": "e31ca0b0-b039-4ccf-98da-304e22b33aea",
   "metadata": {},
   "outputs": [],
   "source": [
    "# Import metric calculations\n",
    "from tensorflow.keras.metrics import Precision, Recall"
   ]
  },
  {
   "cell_type": "code",
   "execution_count": 128,
   "id": "0164c1a4-21f8-4805-a880-3f60f729086c",
   "metadata": {},
   "outputs": [],
   "source": [
    "# Get a batch of test data\n",
    "test_input, test_val, y_true = test_data.as_numpy_iterator().next()"
   ]
  },
  {
   "cell_type": "code",
   "execution_count": 129,
   "id": "dfae92b0-eda5-4bd5-aa29-456905e815b2",
   "metadata": {},
   "outputs": [
    {
     "name": "stdout",
     "output_type": "stream",
     "text": [
      "1/1 [==============================] - 2s 2s/step\n"
     ]
    }
   ],
   "source": [
    "y_hat = siamese_model.predict([test_input, test_val])"
   ]
  },
  {
   "cell_type": "code",
   "execution_count": 130,
   "id": "99744fa8-7eb0-48a2-961f-a3a827be9431",
   "metadata": {},
   "outputs": [
    {
     "data": {
      "text/plain": [
       "[0, 1, 0, 1, 0, 1, 1, 0, 1, 1, 0, 1, 1, 0, 1, 1]"
      ]
     },
     "execution_count": 130,
     "metadata": {},
     "output_type": "execute_result"
    }
   ],
   "source": [
    "# Post processing the results \n",
    "[1 if prediction > 0.5 else 0 for prediction in y_hat ]"
   ]
  },
  {
   "cell_type": "code",
   "execution_count": 131,
   "id": "c5cdfbc2-8ace-4247-976b-6e410b2cea32",
   "metadata": {},
   "outputs": [
    {
     "data": {
      "text/plain": [
       "array([0., 1., 0., 1., 0., 1., 1., 0., 1., 1., 0., 1., 1., 0., 1., 1.],\n",
       "      dtype=float32)"
      ]
     },
     "execution_count": 131,
     "metadata": {},
     "output_type": "execute_result"
    }
   ],
   "source": [
    "y_true"
   ]
  },
  {
   "cell_type": "code",
   "execution_count": 132,
   "id": "59c18b6f-20f8-4a7b-b1c5-9bd1c19b0a85",
   "metadata": {},
   "outputs": [
    {
     "data": {
      "text/plain": [
       "1.0"
      ]
     },
     "execution_count": 132,
     "metadata": {},
     "output_type": "execute_result"
    }
   ],
   "source": [
    "# Creating a metric object \n",
    "m = Recall()\n",
    "\n",
    "# Calculating the recall value \n",
    "m.update_state(y_true, y_hat)\n",
    "\n",
    "# Return Recall Result\n",
    "m.result().numpy()"
   ]
  },
  {
   "cell_type": "code",
   "execution_count": 133,
   "id": "0816bae2-3ed7-4250-9ee2-a0d6894a9dc6",
   "metadata": {},
   "outputs": [
    {
     "data": {
      "text/plain": [
       "1.0"
      ]
     },
     "execution_count": 133,
     "metadata": {},
     "output_type": "execute_result"
    }
   ],
   "source": [
    "# Creating a metric object \n",
    "m = Precision()\n",
    "\n",
    "# Calculating the recall value \n",
    "m.update_state(y_true, y_hat)\n",
    "\n",
    "# Return Recall Result\n",
    "m.result().numpy()"
   ]
  },
  {
   "cell_type": "code",
   "execution_count": 142,
   "id": "04abaa7d-3f5c-4c0a-909f-f113f619ded8",
   "metadata": {},
   "outputs": [
    {
     "name": "stdout",
     "output_type": "stream",
     "text": [
      "1/1 [==============================] - 2s 2s/step\n",
      "1/1 [==============================] - 2s 2s/step\n",
      "1/1 [==============================] - 2s 2s/step\n",
      "1/1 [==============================] - 2s 2s/step\n",
      "1.0 1.0\n"
     ]
    }
   ],
   "source": [
    "r = Recall()\n",
    "p = Precision()\n",
    "\n",
    "for test_input, test_val, y_true in test_data.as_numpy_iterator():\n",
    "    yhat = siamese_model.predict([test_input, test_val])\n",
    "    r.update_state(y_true, yhat)\n",
    "    p.update_state(y_true,yhat) \n",
    "\n",
    "print(r.result().numpy(), p.result().numpy())"
   ]
  },
  {
   "cell_type": "code",
   "execution_count": 143,
   "id": "2f33c55f-16df-402b-8085-422dc710956f",
   "metadata": {},
   "outputs": [
    {
     "data": {
      "image/png": "[encoded data removed]",
      "text/plain": [
       "<Figure size 1000x800 with 2 Axes>"
      ]
     },
     "metadata": {},
     "output_type": "display_data"
    }
   ],
   "source": [
    "# Set plot size \n",
    "plt.figure(figsize=(10,8))\n",
    "\n",
    "# Set first subplot\n",
    "plt.subplot(1,2,1)\n",
    "plt.imshow(test_input[0])\n",
    "\n",
    "# Set second subplot\n",
    "plt.subplot(1,2,2)\n",
    "plt.imshow(test_val[0])\n",
    "\n",
    "# Renders cleanly\n",
    "plt.show()"
   ]
  },
  {
   "cell_type": "code",
   "execution_count": 144,
   "id": "33bbe658-c549-40a5-b83f-9defaa37d178",
   "metadata": {},
   "outputs": [
    {
     "name": "stdout",
     "output_type": "stream",
     "text": [
      "WARNING:tensorflow:Compiled the loaded model, but the compiled metrics have yet to be built. `model.compile_metrics` will be empty until you train or evaluate the model.\n"
     ]
    }
   ],
   "source": [
    "# Save weights\n",
    "siamese_model.save('siamesemodelv2.h5')"
   ]
  },
  {
   "cell_type": "code",
   "execution_count": 145,
   "id": "3049a3b4-2dca-4641-b185-60cae7f79f0c",
   "metadata": {},
   "outputs": [
    {
     "data": {
      "text/plain": [
       "__main__.L1Dist"
      ]
     },
     "execution_count": 145,
     "metadata": {},
     "output_type": "execute_result"
    }
   ],
   "source": [
    "L1Dist"
   ]
  },
  {
   "cell_type": "code",
   "execution_count": 146,
   "id": "a36ae24c-2a94-41fd-9f1b-bc1c80777a31",
   "metadata": {},
   "outputs": [
    {
     "name": "stdout",
     "output_type": "stream",
     "text": [
      "WARNING:tensorflow:No training configuration found in the save file, so the model was *not* compiled. Compile it manually.\n"
     ]
    }
   ],
   "source": [
    "# Reload model \n",
    "siamese_model = tf.keras.models.load_model('siamesemodelv2.h5', \n",
    "                                   custom_objects={'L1Dist':L1Dist, 'BinaryCrossentropy':tf.losses.BinaryCrossentropy})"
   ]
  },
  {
   "cell_type": "code",
   "execution_count": 147,
   "id": "dac52755-7c25-4d4e-ae25-a9a2d91351b3",
   "metadata": {},
   "outputs": [
    {
     "name": "stdout",
     "output_type": "stream",
     "text": [
      "1/1 [==============================] - 2s 2s/step\n"
     ]
    },
    {
     "data": {
      "text/plain": [
       "array([[9.9999964e-01],\n",
       "       [4.4491017e-08],\n",
       "       [9.9995714e-01],\n",
       "       [9.9999952e-01],\n",
       "       [9.9999762e-01],\n",
       "       [6.8215566e-05],\n",
       "       [1.7825078e-09],\n",
       "       [1.0000000e+00],\n",
       "       [4.4452740e-06],\n",
       "       [1.0873980e-06],\n",
       "       [5.0339349e-05],\n",
       "       [9.9996811e-01]], dtype=float32)"
      ]
     },
     "execution_count": 147,
     "metadata": {},
     "output_type": "execute_result"
    }
   ],
   "source": [
    "# Make predictions with reloaded model\n",
    "siamese_model.predict([test_input, test_val])"
   ]
  },
  {
   "cell_type": "code",
   "execution_count": 148,
   "id": "a8920d62-c678-4d59-8920-1cf7da9dac42",
   "metadata": {},
   "outputs": [
    {
     "name": "stdout",
     "output_type": "stream",
     "text": [
      "Model: \"SiameseNetwork\"\n",
      "__________________________________________________________________________________________________\n",
      " Layer (type)                Output Shape                 Param #   Connected to                  \n",
      "==================================================================================================\n",
      " input_img (InputLayer)      [(None, 100, 100, 3)]        0         []                            \n",
      "                                                                                                  \n",
      " validation_img (InputLayer  [(None, 100, 100, 3)]        0         []                            \n",
      " )                                                                                                \n",
      "                                                                                                  \n",
      " embedding (Functional)      (None, 4096)                 3896044   ['input_img[0][0]',           \n",
      "                                                          8          'validation_img[0][0]']      \n",
      "                                                                                                  \n",
      " l1_dist_3 (L1Dist)          (None, 4096)                 0         ['embedding[0][0]',           \n",
      "                                                                     'embedding[1][0]']           \n",
      "                                                                                                  \n",
      " dense_3 (Dense)             (None, 1)                    4097      ['l1_dist_3[0][0]']           \n",
      "                                                                                                  \n",
      "==================================================================================================\n",
      "Total params: 38964545 (148.64 MB)\n",
      "Trainable params: 38964545 (148.64 MB)\n",
      "Non-trainable params: 0 (0.00 Byte)\n",
      "__________________________________________________________________________________________________\n"
     ]
    }
   ],
   "source": [
    "# View model summary\n",
    "siamese_model.summary()"
   ]
  },
  {
   "cell_type": "code",
   "execution_count": 149,
   "id": "a6ca0004-da73-41b9-ac5b-881516b5b6e0",
   "metadata": {},
   "outputs": [
    {
     "ename": "SyntaxError",
     "evalue": "unexpected character after line continuation character (2818603333.py, line 1)",
     "output_type": "error",
     "traceback": [
      "\u001b[1;36m  Cell \u001b[1;32mIn[149], line 1\u001b[1;36m\u001b[0m\n\u001b[1;33m    application_data\\verification_images\u001b[0m\n\u001b[1;37m                     ^\u001b[0m\n\u001b[1;31mSyntaxError\u001b[0m\u001b[1;31m:\u001b[0m unexpected character after line continuation character\n"
     ]
    }
   ],
   "source": [
    "application_data\\verification_images"
   ]
  },
  {
   "cell_type": "code",
   "execution_count": 150,
   "id": "7761dba7-2f74-46e7-ba3d-7d8cfe5ea583",
   "metadata": {},
   "outputs": [
    {
     "data": {
      "text/plain": [
       "['8e76b991-5aaa-11ee-9b72-e868eb2b8f93.jpg',\n",
       " '902f91f9-5aaa-11ee-822e-e868eb2b8f93.jpg',\n",
       " '90fd1cf4-5aaa-11ee-9e64-e868eb2b8f93.jpg',\n",
       " '919b7733-5aaa-11ee-a8b9-e868eb2b8f93.jpg',\n",
       " '91a9defb-5aaa-11ee-bf97-e868eb2b8f93.jpg',\n",
       " '927e0571-5aaa-11ee-953a-e868eb2b8f93.jpg',\n",
       " '92dc5d5f-5aaa-11ee-b6e7-e868eb2b8f93.jpg',\n",
       " '933d016e-5aaa-11ee-81ba-e868eb2b8f93.jpg',\n",
       " '9344327f-5aaa-11ee-beaf-e868eb2b8f93.jpg',\n",
       " '94ae04c4-5aaa-11ee-af74-e868eb2b8f93.jpg',\n",
       " '94d16936-5aaa-11ee-b592-e868eb2b8f93.jpg',\n",
       " 'a10ae4f5-5aaa-11ee-ae34-e868eb2b8f93.jpg',\n",
       " 'a230a29f-5aaa-11ee-958e-e868eb2b8f93.jpg',\n",
       " 'a2978ae3-5aaa-11ee-ad67-e868eb2b8f93.jpg',\n",
       " 'a2d378fa-5aaa-11ee-9977-e868eb2b8f93.jpg',\n",
       " 'a62b1cff-5aaa-11ee-8c7a-e868eb2b8f93.jpg',\n",
       " 'aadf1642-5aaa-11ee-a1ac-e868eb2b8f93.jpg',\n",
       " 'de3e3706-5aaa-11ee-9577-e868eb2b8f93.jpg',\n",
       " 'dec44aff-5aaa-11ee-ba5b-e868eb2b8f93.jpg',\n",
       " 'ded396df-5aaa-11ee-a7af-e868eb2b8f93.jpg',\n",
       " 'dee2a31d-5aaa-11ee-92ad-e868eb2b8f93.jpg',\n",
       " 'def18d80-5aaa-11ee-987d-e868eb2b8f93.jpg',\n",
       " 'df006759-5aaa-11ee-bcc1-e868eb2b8f93.jpg',\n",
       " 'df5ba69b-5aaa-11ee-9ed1-e868eb2b8f93.jpg',\n",
       " 'df6a8319-5aaa-11ee-bcb2-e868eb2b8f93.jpg',\n",
       " 'df78f43f-5aaa-11ee-a1ba-e868eb2b8f93.jpg',\n",
       " 'df8d0ee5-5aaa-11ee-aa95-e868eb2b8f93.jpg',\n",
       " 'dfa15200-5aaa-11ee-b40d-e868eb2b8f93.jpg',\n",
       " 'dfb604bb-5aaa-11ee-98d8-e868eb2b8f93.jpg',\n",
       " 'dfc4e030-5aaa-11ee-b961-e868eb2b8f93.jpg',\n",
       " 'dfd3820e-5aaa-11ee-9863-e868eb2b8f93.jpg',\n",
       " 'dfe3c5f6-5aaa-11ee-ae96-e868eb2b8f93.jpg',\n",
       " 'dff2e187-5aaa-11ee-8fb3-e868eb2b8f93.jpg',\n",
       " 'e001d54b-5aaa-11ee-bc06-e868eb2b8f93.jpg',\n",
       " 'e010dd20-5aaa-11ee-87d5-e868eb2b8f93.jpg',\n",
       " 'e07e3640-5aaa-11ee-a63a-e868eb2b8f93.jpg',\n",
       " 'e0a27f74-5aaa-11ee-83a6-e868eb2b8f93.jpg',\n",
       " 'e0b17fcb-5aaa-11ee-adff-e868eb2b8f93.jpg',\n",
       " 'e0c089d0-5aaa-11ee-a78c-e868eb2b8f93.jpg',\n",
       " 'e0c99c65-5aaa-11ee-91ea-e868eb2b8f93.jpg',\n",
       " 'e14f1347-5aaa-11ee-afc0-e868eb2b8f93.jpg',\n",
       " 'e18c7233-5aaa-11ee-bbf1-e868eb2b8f93.jpg',\n",
       " 'e1aded48-5aaa-11ee-b24d-e868eb2b8f93.jpg',\n",
       " 'e2a7b96c-5aaa-11ee-88ec-e868eb2b8f93.jpg',\n",
       " 'e2b6eb4a-5aaa-11ee-9f15-e868eb2b8f93.jpg',\n",
       " 'e2c5c883-5aaa-11ee-b7c8-e868eb2b8f93.jpg',\n",
       " 'e2d4ea40-5aaa-11ee-b1dd-e868eb2b8f93.jpg',\n",
       " 'e2e3d93b-5aaa-11ee-a223-e868eb2b8f93.jpg',\n",
       " 'e2f40aeb-5aaa-11ee-927a-e868eb2b8f93.jpg',\n",
       " 'e4f7bca6-5aaa-11ee-85b4-e868eb2b8f93.jpg']"
      ]
     },
     "execution_count": 150,
     "metadata": {},
     "output_type": "execute_result"
    }
   ],
   "source": [
    "os.listdir(os.path.join('application_data', 'verification_images'))"
   ]
  },
  {
   "cell_type": "code",
   "execution_count": 151,
   "id": "00f1f2dd-09d4-4410-a2db-a44426d20312",
   "metadata": {},
   "outputs": [
    {
     "data": {
      "text/plain": [
       "'application_data\\\\input_image\\\\input_image.jpg'"
      ]
     },
     "execution_count": 151,
     "metadata": {},
     "output_type": "execute_result"
    }
   ],
   "source": [
    "os.path.join('application_data', 'input_image', 'input_image.jpg')"
   ]
  },
  {
   "cell_type": "code",
   "execution_count": 152,
   "id": "6850482a-3b2e-499e-880e-d24d0d8c87af",
   "metadata": {},
   "outputs": [
    {
     "name": "stdout",
     "output_type": "stream",
     "text": [
      "application_data\\verification_images\\8e76b991-5aaa-11ee-9b72-e868eb2b8f93.jpg\n",
      "application_data\\verification_images\\902f91f9-5aaa-11ee-822e-e868eb2b8f93.jpg\n",
      "application_data\\verification_images\\90fd1cf4-5aaa-11ee-9e64-e868eb2b8f93.jpg\n",
      "application_data\\verification_images\\919b7733-5aaa-11ee-a8b9-e868eb2b8f93.jpg\n",
      "application_data\\verification_images\\91a9defb-5aaa-11ee-bf97-e868eb2b8f93.jpg\n",
      "application_data\\verification_images\\927e0571-5aaa-11ee-953a-e868eb2b8f93.jpg\n",
      "application_data\\verification_images\\92dc5d5f-5aaa-11ee-b6e7-e868eb2b8f93.jpg\n",
      "application_data\\verification_images\\933d016e-5aaa-11ee-81ba-e868eb2b8f93.jpg\n",
      "application_data\\verification_images\\9344327f-5aaa-11ee-beaf-e868eb2b8f93.jpg\n",
      "application_data\\verification_images\\94ae04c4-5aaa-11ee-af74-e868eb2b8f93.jpg\n",
      "application_data\\verification_images\\94d16936-5aaa-11ee-b592-e868eb2b8f93.jpg\n",
      "application_data\\verification_images\\a10ae4f5-5aaa-11ee-ae34-e868eb2b8f93.jpg\n",
      "application_data\\verification_images\\a230a29f-5aaa-11ee-958e-e868eb2b8f93.jpg\n",
      "application_data\\verification_images\\a2978ae3-5aaa-11ee-ad67-e868eb2b8f93.jpg\n",
      "application_data\\verification_images\\a2d378fa-5aaa-11ee-9977-e868eb2b8f93.jpg\n",
      "application_data\\verification_images\\a62b1cff-5aaa-11ee-8c7a-e868eb2b8f93.jpg\n",
      "application_data\\verification_images\\aadf1642-5aaa-11ee-a1ac-e868eb2b8f93.jpg\n",
      "application_data\\verification_images\\de3e3706-5aaa-11ee-9577-e868eb2b8f93.jpg\n",
      "application_data\\verification_images\\dec44aff-5aaa-11ee-ba5b-e868eb2b8f93.jpg\n",
      "application_data\\verification_images\\ded396df-5aaa-11ee-a7af-e868eb2b8f93.jpg\n",
      "application_data\\verification_images\\dee2a31d-5aaa-11ee-92ad-e868eb2b8f93.jpg\n",
      "application_data\\verification_images\\def18d80-5aaa-11ee-987d-e868eb2b8f93.jpg\n",
      "application_data\\verification_images\\df006759-5aaa-11ee-bcc1-e868eb2b8f93.jpg\n",
      "application_data\\verification_images\\df5ba69b-5aaa-11ee-9ed1-e868eb2b8f93.jpg\n",
      "application_data\\verification_images\\df6a8319-5aaa-11ee-bcb2-e868eb2b8f93.jpg\n",
      "application_data\\verification_images\\df78f43f-5aaa-11ee-a1ba-e868eb2b8f93.jpg\n",
      "application_data\\verification_images\\df8d0ee5-5aaa-11ee-aa95-e868eb2b8f93.jpg\n",
      "application_data\\verification_images\\dfa15200-5aaa-11ee-b40d-e868eb2b8f93.jpg\n",
      "application_data\\verification_images\\dfb604bb-5aaa-11ee-98d8-e868eb2b8f93.jpg\n",
      "application_data\\verification_images\\dfc4e030-5aaa-11ee-b961-e868eb2b8f93.jpg\n",
      "application_data\\verification_images\\dfd3820e-5aaa-11ee-9863-e868eb2b8f93.jpg\n",
      "application_data\\verification_images\\dfe3c5f6-5aaa-11ee-ae96-e868eb2b8f93.jpg\n",
      "application_data\\verification_images\\dff2e187-5aaa-11ee-8fb3-e868eb2b8f93.jpg\n",
      "application_data\\verification_images\\e001d54b-5aaa-11ee-bc06-e868eb2b8f93.jpg\n",
      "application_data\\verification_images\\e010dd20-5aaa-11ee-87d5-e868eb2b8f93.jpg\n",
      "application_data\\verification_images\\e07e3640-5aaa-11ee-a63a-e868eb2b8f93.jpg\n",
      "application_data\\verification_images\\e0a27f74-5aaa-11ee-83a6-e868eb2b8f93.jpg\n",
      "application_data\\verification_images\\e0b17fcb-5aaa-11ee-adff-e868eb2b8f93.jpg\n",
      "application_data\\verification_images\\e0c089d0-5aaa-11ee-a78c-e868eb2b8f93.jpg\n",
      "application_data\\verification_images\\e0c99c65-5aaa-11ee-91ea-e868eb2b8f93.jpg\n",
      "application_data\\verification_images\\e14f1347-5aaa-11ee-afc0-e868eb2b8f93.jpg\n",
      "application_data\\verification_images\\e18c7233-5aaa-11ee-bbf1-e868eb2b8f93.jpg\n",
      "application_data\\verification_images\\e1aded48-5aaa-11ee-b24d-e868eb2b8f93.jpg\n",
      "application_data\\verification_images\\e2a7b96c-5aaa-11ee-88ec-e868eb2b8f93.jpg\n",
      "application_data\\verification_images\\e2b6eb4a-5aaa-11ee-9f15-e868eb2b8f93.jpg\n",
      "application_data\\verification_images\\e2c5c883-5aaa-11ee-b7c8-e868eb2b8f93.jpg\n",
      "application_data\\verification_images\\e2d4ea40-5aaa-11ee-b1dd-e868eb2b8f93.jpg\n",
      "application_data\\verification_images\\e2e3d93b-5aaa-11ee-a223-e868eb2b8f93.jpg\n",
      "application_data\\verification_images\\e2f40aeb-5aaa-11ee-927a-e868eb2b8f93.jpg\n",
      "application_data\\verification_images\\e4f7bca6-5aaa-11ee-85b4-e868eb2b8f93.jpg\n"
     ]
    }
   ],
   "source": [
    "for image in os.listdir(os.path.join('application_data', 'verification_images')):\n",
    "    validation_img = os.path.join('application_data', 'verification_images', image)\n",
    "    print(validation_img)"
   ]
  },
  {
   "cell_type": "code",
   "execution_count": 153,
   "id": "072af3ad-b62c-4f0b-bf23-5b7cfd12fded",
   "metadata": {},
   "outputs": [],
   "source": [
    "def verify(model, detection_threshold, verification_threshold):\n",
    "    # Build results array\n",
    "    results = []\n",
    "    for image in os.listdir(os.path.join('application_data', 'verification_images')):\n",
    "        input_img = preprocess(os.path.join('application_data', 'input_image', 'input_image.jpg'))\n",
    "        validation_img = preprocess(os.path.join('application_data', 'verification_images', image))\n",
    "        \n",
    "        # Make Predictions \n",
    "        result = model.predict(list(np.expand_dims([input_img, validation_img], axis=1)))\n",
    "        results.append(result)\n",
    "    \n",
    "    # Detection Threshold: Metric above which a prediciton is considered positive \n",
    "    detection = np.sum(np.array(results) > detection_threshold)\n",
    "    \n",
    "    # Verification Threshold: Proportion of positive predictions / total positive samples \n",
    "    verification = detection / len(os.listdir(os.path.join('application_data', 'verification_images'))) \n",
    "    verified = verification > verification_threshold\n",
    "    \n",
    "    return results, verified"
   ]
  },
  {
   "cell_type": "code",
   "execution_count": 154,
   "id": "2af8bb69-ea65-4be4-8cb5-75a5511fc49d",
   "metadata": {},
   "outputs": [
    {
     "name": "stdout",
     "output_type": "stream",
     "text": [
      "1/1 [==============================] - 0s 306ms/step\n",
      "1/1 [==============================] - 0s 291ms/step\n",
      "1/1 [==============================] - 0s 262ms/step\n",
      "1/1 [==============================] - 0s 311ms/step\n",
      "1/1 [==============================] - 0s 277ms/step\n",
      "1/1 [==============================] - 0s 293ms/step\n",
      "1/1 [==============================] - 0s 311ms/step\n",
      "1/1 [==============================] - 0s 283ms/step\n",
      "1/1 [==============================] - 0s 391ms/step\n",
      "1/1 [==============================] - 0s 262ms/step\n",
      "1/1 [==============================] - 0s 275ms/step\n",
      "1/1 [==============================] - 0s 353ms/step\n",
      "1/1 [==============================] - 0s 276ms/step\n",
      "1/1 [==============================] - 0s 282ms/step\n",
      "1/1 [==============================] - 0s 284ms/step\n",
      "1/1 [==============================] - 0s 264ms/step\n",
      "1/1 [==============================] - 0s 283ms/step\n",
      "1/1 [==============================] - 0s 263ms/step\n",
      "1/1 [==============================] - 0s 298ms/step\n",
      "1/1 [==============================] - 0s 382ms/step\n",
      "1/1 [==============================] - 0s 265ms/step\n",
      "1/1 [==============================] - 0s 283ms/step\n",
      "1/1 [==============================] - 0s 283ms/step\n",
      "1/1 [==============================] - 0s 313ms/step\n",
      "1/1 [==============================] - 0s 357ms/step\n",
      "1/1 [==============================] - 0s 306ms/step\n",
      "1/1 [==============================] - 0s 291ms/step\n",
      "1/1 [==============================] - 0s 299ms/step\n",
      "1/1 [==============================] - 0s 269ms/step\n",
      "1/1 [==============================] - 0s 309ms/step\n",
      "1/1 [==============================] - 0s 306ms/step\n",
      "1/1 [==============================] - 0s 283ms/step\n",
      "1/1 [==============================] - 0s 262ms/step\n",
      "1/1 [==============================] - 0s 314ms/step\n",
      "1/1 [==============================] - 0s 285ms/step\n",
      "1/1 [==============================] - 0s 357ms/step\n",
      "1/1 [==============================] - 0s 261ms/step\n",
      "1/1 [==============================] - 0s 340ms/step\n",
      "1/1 [==============================] - 0s 278ms/step\n",
      "1/1 [==============================] - 0s 368ms/step\n",
      "1/1 [==============================] - 0s 279ms/step\n",
      "1/1 [==============================] - 0s 293ms/step\n",
      "1/1 [==============================] - 0s 312ms/step\n",
      "1/1 [==============================] - 0s 306ms/step\n",
      "1/1 [==============================] - 0s 267ms/step\n",
      "1/1 [==============================] - 0s 319ms/step\n",
      "1/1 [==============================] - 0s 324ms/step\n",
      "1/1 [==============================] - 0s 315ms/step\n",
      "1/1 [==============================] - 0s 262ms/step\n",
      "1/1 [==============================] - 0s 310ms/step\n",
      "True\n"
     ]
    }
   ],
   "source": [
    "cap = cv2.VideoCapture(0)\n",
    "while cap.isOpened():\n",
    "    ret, frame = cap.read()\n",
    "    frame = frame[120:120+250,200:200+250, :]\n",
    "    \n",
    "    cv2.imshow('Verification', frame)\n",
    "    \n",
    "    # Verification trigger\n",
    "    if cv2.waitKey(10) & 0xFF == ord('v'):\n",
    "        # Save input image to application_data/input_image folder \n",
    "#         hsv = cv2.cvtColor(frame, cv2.COLOR_BGR2HSV)\n",
    "#         h, s, v = cv2.split(hsv)\n",
    "\n",
    "#         lim = 255 - 10\n",
    "#         v[v > lim] = 255\n",
    "#         v[v <= lim] -= 10\n",
    "        \n",
    "#         final_hsv = cv2.merge((h, s, v))\n",
    "#         img = cv2.cvtColor(final_hsv, cv2.COLOR_HSV2BGR)\n",
    "\n",
    "        cv2.imwrite(os.path.join('application_data', 'input_image', 'input_image.jpg'), frame)\n",
    "        # Run verification\n",
    "        results, verified = verify(siamese_model, 0.5, 0.5)\n",
    "        print(verified)\n",
    "    \n",
    "    if cv2.waitKey(10) & 0xFF == ord('q'):\n",
    "        break\n",
    "cap.release()\n",
    "cv2.destroyAllWindows()"
   ]
  },
  {
   "cell_type": "code",
   "execution_count": 155,
   "id": "f9b7887c-2f9d-43f7-8250-d9b021e4c076",
   "metadata": {},
   "outputs": [
    {
     "data": {
      "text/plain": [
       "26"
      ]
     },
     "execution_count": 155,
     "metadata": {},
     "output_type": "execute_result"
    }
   ],
   "source": [
    "np.sum(np.squeeze(results) > 0.9)"
   ]
  },
  {
   "cell_type": "code",
   "execution_count": 156,
   "id": "06951318-28b9-4d92-a9a7-c6a3bb32acf0",
   "metadata": {},
   "outputs": [
    {
     "data": {
      "text/plain": [
       "[array([[1.]], dtype=float32),\n",
       " array([[0.00031962]], dtype=float32),\n",
       " array([[1.]], dtype=float32),\n",
       " array([[1.]], dtype=float32),\n",
       " array([[1.]], dtype=float32),\n",
       " array([[1.]], dtype=float32),\n",
       " array([[1.]], dtype=float32),\n",
       " array([[1.]], dtype=float32),\n",
       " array([[1.]], dtype=float32),\n",
       " array([[1.]], dtype=float32),\n",
       " array([[1.]], dtype=float32),\n",
       " array([[0.9993322]], dtype=float32),\n",
       " array([[0.9856582]], dtype=float32),\n",
       " array([[0.00074172]], dtype=float32),\n",
       " array([[0.00266281]], dtype=float32),\n",
       " array([[0.9999847]], dtype=float32),\n",
       " array([[0.9999999]], dtype=float32),\n",
       " array([[0.00264962]], dtype=float32),\n",
       " array([[0.00056545]], dtype=float32),\n",
       " array([[0.00057117]], dtype=float32),\n",
       " array([[0.00437072]], dtype=float32),\n",
       " array([[0.00146448]], dtype=float32),\n",
       " array([[0.00072719]], dtype=float32),\n",
       " array([[0.0007733]], dtype=float32),\n",
       " array([[0.00062555]], dtype=float32),\n",
       " array([[0.02903647]], dtype=float32),\n",
       " array([[0.9985855]], dtype=float32),\n",
       " array([[0.99997616]], dtype=float32),\n",
       " array([[0.9999999]], dtype=float32),\n",
       " array([[0.9999997]], dtype=float32),\n",
       " array([[0.99999744]], dtype=float32),\n",
       " array([[0.9999975]], dtype=float32),\n",
       " array([[0.99999785]], dtype=float32),\n",
       " array([[0.9999991]], dtype=float32),\n",
       " array([[0.9999996]], dtype=float32),\n",
       " array([[0.9998434]], dtype=float32),\n",
       " array([[0.00107835]], dtype=float32),\n",
       " array([[0.00158119]], dtype=float32),\n",
       " array([[0.00515399]], dtype=float32),\n",
       " array([[0.001367]], dtype=float32),\n",
       " array([[0.9988408]], dtype=float32),\n",
       " array([[0.00061257]], dtype=float32),\n",
       " array([[0.00112649]], dtype=float32),\n",
       " array([[0.00094327]], dtype=float32),\n",
       " array([[0.00223435]], dtype=float32),\n",
       " array([[0.00277045]], dtype=float32),\n",
       " array([[0.00176667]], dtype=float32),\n",
       " array([[0.00132406]], dtype=float32),\n",
       " array([[0.00358875]], dtype=float32),\n",
       " array([[0.99999905]], dtype=float32)]"
      ]
     },
     "execution_count": 156,
     "metadata": {},
     "output_type": "execute_result"
    }
   ],
   "source": [
    "results"
   ]
  },
  {
   "cell_type": "code",
   "execution_count": null,
   "id": "3af5126a-a116-4bbd-aefd-cb55268e6ac2",
   "metadata": {},
   "outputs": [],
   "source": []
  },
  {
   "cell_type": "code",
   "execution_count": null,
   "id": "06ff5309-4cad-4758-bbf2-a80351a7c920",
   "metadata": {},
   "outputs": [],
   "source": []
  }
 ],
 "metadata": {
  "kernelspec": {
   "display_name": "face",
   "language": "python",
   "name": "face"
  },
  "language_info": {
   "codemirror_mode": {
    "name": "ipython",
    "version": 3
   },
   "file_extension": ".py",
   "mimetype": "text/x-python",
   "name": "python",
   "nbconvert_exporter": "python",
   "pygments_lexer": "ipython3",
   "version": "3.11.3"
  }
 },
 "nbformat": 4,
 "nbformat_minor": 5
}
